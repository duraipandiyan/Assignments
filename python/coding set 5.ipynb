{
 "cells": [
  {
   "cell_type": "code",
   "execution_count": 5,
   "id": "a2bfbf44",
   "metadata": {},
   "outputs": [
    {
     "data": {
      "text/plain": [
       "['APPLE', 'BANANA', 'CHERRY']"
      ]
     },
     "execution_count": 5,
     "metadata": {},
     "output_type": "execute_result"
    }
   ],
   "source": [
    "#1. Convert a List of Strings to Uppercase\n",
    "# Question: Write a Python program to convert all strings in the list [\"apple\", \"banana\", \"cherry\"] to uppercase.\n",
    "\n",
    "List=[\"apple\", \"banana\", \"cherry\"]\n",
    "def upper():\n",
    "    new_lis=[]\n",
    "    for i in List:\n",
    "        new_lis.append(i.upper())\n",
    "    return new_lis    \n",
    "upper()    \n"
   ]
  },
  {
   "cell_type": "code",
   "execution_count": 28,
   "id": "d73fd504",
   "metadata": {},
   "outputs": [
    {
     "data": {
      "text/plain": [
       "{'a': 10, 'b': 20, 'c': 30, 'd': 40}"
      ]
     },
     "execution_count": 28,
     "metadata": {},
     "output_type": "execute_result"
    }
   ],
   "source": [
    "#2. Merge Two Dictionaries\n",
    "# Question: Write a Python program to merge two dictionaries:\n",
    "\n",
    "dict1 = {'a': 10, 'b': 20}  \n",
    "dict2 = {'c': 30, 'd': 40}\n",
    "dict1.update(dict2)\n",
    "     \n",
    "dict1\n"
   ]
  },
  {
   "cell_type": "code",
   "execution_count": 20,
   "id": "86dc2aa1",
   "metadata": {},
   "outputs": [
    {
     "name": "stdout",
     "output_type": "stream",
     "text": [
      "4\n",
      "5\n"
     ]
    }
   ],
   "source": [
    "#3. Find the Intersection of Two Lists\n",
    "# Question: Write a Python program to find the common elements between the two lists:\n",
    "\n",
    "# list1 = [1, 2, 3, 4, 5]  \n",
    "# list2 = [4, 5, 6, 7, 8]\n",
    "\n",
    "def common_elements(list1,list2):\n",
    "    dic={\n",
    "    }\n",
    "    for i in list1:\n",
    "        if i in dic:\n",
    "            dic[i]+=1\n",
    "        else:\n",
    "            dic[i]=0\n",
    "    for j in list2:\n",
    "        if j in dic:\n",
    "            dic[j]+=1\n",
    "            print(j)\n",
    "        else:\n",
    "            dic[j]=0\n",
    "            \n",
    "#     print(dic)    \n",
    "    \n",
    "    \n",
    "common_elements([1, 2, 3, 4, 5],[4, 5, 6, 7, 8])"
   ]
  },
  {
   "cell_type": "code",
   "execution_count": null,
   "id": "1e2f6e55",
   "metadata": {},
   "outputs": [],
   "source": [
    "#4. Find the Length of Each Word in a Sentence\n",
    "# Question: Write a Python program to print the length of each word in the sentence \"Python is fun and powerful\".\n",
    "\n",
    "def lengthoftheword(Sentence)\n",
    "    pass\n",
    "\n",
    "lengthoftheword(\"Python is fun and powerful\")\n"
   ]
  },
  {
   "cell_type": "code",
   "execution_count": 25,
   "id": "6c7c45d2",
   "metadata": {},
   "outputs": [
    {
     "name": "stdout",
     "output_type": "stream",
     "text": [
      "45\n"
     ]
    }
   ],
   "source": [
    "#5. Find the Sum of All Elements in a 2D List\n",
    "# Question: Write a Python program to find the sum of all elements in the 2D list:\n",
    "\n",
    "def sum_of_num(matrix):\n",
    "    Sum=0\n",
    "    for i in matrix:\n",
    "        for j in i:\n",
    "            Sum+=j\n",
    "    print(Sum)        \n",
    "        \n",
    "    \n",
    "sum_of_num([[1, 2, 3], [4, 5, 6], [7, 8, 9]])    \n"
   ]
  },
  {
   "cell_type": "code",
   "execution_count": null,
   "id": "e9d04e89",
   "metadata": {},
   "outputs": [],
   "source": []
  }
 ],
 "metadata": {
  "kernelspec": {
   "display_name": "Python 3 (ipykernel)",
   "language": "python",
   "name": "python3"
  },
  "language_info": {
   "codemirror_mode": {
    "name": "ipython",
    "version": 3
   },
   "file_extension": ".py",
   "mimetype": "text/x-python",
   "name": "python",
   "nbconvert_exporter": "python",
   "pygments_lexer": "ipython3",
   "version": "3.9.12"
  }
 },
 "nbformat": 4,
 "nbformat_minor": 5
}
