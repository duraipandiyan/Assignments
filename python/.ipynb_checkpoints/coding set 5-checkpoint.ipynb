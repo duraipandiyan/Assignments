{
 "cells": [
  {
   "cell_type": "code",
   "execution_count": 3,
   "id": "a2bfbf44",
   "metadata": {},
   "outputs": [
    {
     "ename": "AttributeError",
     "evalue": "'list' object has no attribute 'upper'",
     "output_type": "error",
     "traceback": [
      "\u001b[1;31m---------------------------------------------------------------------------\u001b[0m",
      "\u001b[1;31mAttributeError\u001b[0m                            Traceback (most recent call last)",
      "Input \u001b[1;32mIn [3]\u001b[0m, in \u001b[0;36m<cell line: 5>\u001b[1;34m()\u001b[0m\n\u001b[0;32m      1\u001b[0m \u001b[38;5;66;03m#1. Convert a List of Strings to Uppercase\u001b[39;00m\n\u001b[0;32m      2\u001b[0m \u001b[38;5;66;03m# Question: Write a Python program to convert all strings in the list [\"apple\", \"banana\", \"cherry\"] to uppercase.\u001b[39;00m\n\u001b[0;32m      4\u001b[0m List\u001b[38;5;241m=\u001b[39m[\u001b[38;5;124m\"\u001b[39m\u001b[38;5;124mapple\u001b[39m\u001b[38;5;124m\"\u001b[39m, \u001b[38;5;124m\"\u001b[39m\u001b[38;5;124mbanana\u001b[39m\u001b[38;5;124m\"\u001b[39m, \u001b[38;5;124m\"\u001b[39m\u001b[38;5;124mcherry\u001b[39m\u001b[38;5;124m\"\u001b[39m]\n\u001b[1;32m----> 5\u001b[0m \u001b[43mList\u001b[49m\u001b[38;5;241;43m.\u001b[39;49m\u001b[43mupper\u001b[49m()\n",
      "\u001b[1;31mAttributeError\u001b[0m: 'list' object has no attribute 'upper'"
     ]
    }
   ],
   "source": [
    "#1. Convert a List of Strings to Uppercase\n",
    "# Question: Write a Python program to convert all strings in the list [\"apple\", \"banana\", \"cherry\"] to uppercase.\n",
    "\n",
    "List=[\"apple\", \"banana\", \"cherry\"]\n",
    "def upper\n"
   ]
  },
  {
   "cell_type": "code",
   "execution_count": null,
   "id": "d73fd504",
   "metadata": {},
   "outputs": [],
   "source": [
    "#2. Merge Two Dictionaries\n",
    "Question: Write a Python program to merge two dictionaries:\n",
    "\n",
    "dict1 = {'a': 10, 'b': 20}  \n",
    "dict2 = {'c': 30, 'd': 40}\n"
   ]
  },
  {
   "cell_type": "code",
   "execution_count": null,
   "id": "86dc2aa1",
   "metadata": {},
   "outputs": [],
   "source": [
    "#3. Find the Intersection of Two Lists\n",
    "Question: Write a Python program to find the common elements between the two lists:\n",
    "\n",
    "\n",
    "list1 = [1, 2, 3, 4, 5]  \n",
    "list2 = [4, 5, 6, 7, 8]\n"
   ]
  },
  {
   "cell_type": "code",
   "execution_count": null,
   "id": "1e2f6e55",
   "metadata": {},
   "outputs": [],
   "source": [
    "#4. Find the Length of Each Word in a Sentence\n",
    "Question: Write a Python program to print the length of each word in the sentence \"Python is fun and powerful\".\n"
   ]
  },
  {
   "cell_type": "code",
   "execution_count": null,
   "id": "6c7c45d2",
   "metadata": {},
   "outputs": [],
   "source": [
    "#5. Find the Sum of All Elements in a 2D List\n",
    "Question: Write a Python program to find the sum of all elements in the 2D list:\n",
    "\n",
    "\n",
    "matrix = [[1, 2, 3], [4, 5, 6], [7, 8, 9]]\n"
   ]
  }
 ],
 "metadata": {
  "kernelspec": {
   "display_name": "Python 3 (ipykernel)",
   "language": "python",
   "name": "python3"
  },
  "language_info": {
   "codemirror_mode": {
    "name": "ipython",
    "version": 3
   },
   "file_extension": ".py",
   "mimetype": "text/x-python",
   "name": "python",
   "nbconvert_exporter": "python",
   "pygments_lexer": "ipython3",
   "version": "3.9.12"
  }
 },
 "nbformat": 4,
 "nbformat_minor": 5
}
