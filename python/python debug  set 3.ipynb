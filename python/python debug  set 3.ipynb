{
 "cells": [
  {
   "cell_type": "code",
   "execution_count": 2,
   "id": "e0cda6bb",
   "metadata": {},
   "outputs": [
    {
     "name": "stdout",
     "output_type": "stream",
     "text": [
      "Hello, Durai\n"
     ]
    }
   ],
   "source": [
    "#1.What is wrong with the following function definition, and how do you fix it?\n",
    "\n",
    "\n",
    "# def say_hello(name)  missing colon \n",
    "#     print(\"Hello, \" + name)\n",
    "# function did not call\n",
    "\n",
    "def say_hello(name):\n",
    "     print(\"Hello, \" + name) \n",
    "        \n",
    "say_hello(\"Durai\")        "
   ]
  },
  {
   "cell_type": "code",
   "execution_count": 5,
   "id": "8e33c083",
   "metadata": {},
   "outputs": [
    {
     "name": "stdout",
     "output_type": "stream",
     "text": [
      "I am 25 years old\n"
     ]
    }
   ],
   "source": [
    "#2.What error will occur in the following code, and how do you fix it?\n",
    "\n",
    "\n",
    "# age = 25\n",
    "# print(\"I am \" + age + \" years old\") \n",
    "# concate using + int and string\n",
    "# concatenate str (not \"int\") to str\n",
    "\n",
    "age=25\n",
    "print(\"I am %d years old\"%(age)) "
   ]
  },
  {
   "cell_type": "code",
   "execution_count": 7,
   "id": "52da6958",
   "metadata": {},
   "outputs": [
    {
     "name": "stdout",
     "output_type": "stream",
     "text": [
      "Hello\n"
     ]
    }
   ],
   "source": [
    "#3.Question:\n",
    "# What is the issue with the following code?\n",
    "\n",
    "# def greet():\n",
    "#     message = \"Hello\"\n",
    "# print(message)\n",
    "\n",
    "\n",
    "# Function has not call\n",
    "# indentation error print\n",
    "\n",
    "\n",
    "def greet():\n",
    "    message = \"Hello\"\n",
    "    print(message)\n",
    "greet() "
   ]
  },
  {
   "cell_type": "code",
   "execution_count": 10,
   "id": "98d811ab",
   "metadata": {},
   "outputs": [
    {
     "name": "stdout",
     "output_type": "stream",
     "text": [
      "10\n"
     ]
    }
   ],
   "source": [
    "#4.What error will occur in the following code, and how do you fix it?\n",
    "\n",
    "# def add(a, b):\n",
    "#     return a + b\n",
    "\n",
    "# print(add(5)) \n",
    "# ypeError: add() missing 1 required positional argument: 'b'\n",
    "# need  to pass b - value\n",
    "\n",
    "\n",
    "def add(a, b):\n",
    "    return a + b\n",
    "\n",
    "print(add(5,5))"
   ]
  },
  {
   "cell_type": "code",
   "execution_count": 13,
   "id": "87cdb40a",
   "metadata": {},
   "outputs": [
    {
     "data": {
      "text/plain": [
       "False"
      ]
     },
     "execution_count": 13,
     "metadata": {},
     "output_type": "execute_result"
    }
   ],
   "source": [
    "#5.What is wrong with this code?\n",
    "\n",
    "# def is_even(n):\n",
    "#     if n % 2 == 1:\n",
    "#         return True\n",
    "#     else:\n",
    "#         return False\n",
    "\n",
    "# code is correct but function has not been called\n",
    "\n",
    "\n",
    "def is_even(n):\n",
    "    if n % 2 == 1:\n",
    "        return True\n",
    "    else:\n",
    "        return False\n",
    "is_even(6)    "
   ]
  },
  {
   "cell_type": "code",
   "execution_count": 15,
   "id": "9849beed",
   "metadata": {},
   "outputs": [
    {
     "name": "stdout",
     "output_type": "stream",
     "text": [
      "10\n"
     ]
    }
   ],
   "source": [
    "#6.What happens when you run this code?\n",
    "\n",
    "# num = int(\"10a\")\n",
    "# print(num)\n",
    "\n",
    "# ValueError: invalid literal for int() with base 10: '10a'\n",
    "\n",
    "# we can not change the alphabet into int  \n",
    "\n",
    "num = int(\"10\")\n",
    "print(num)"
   ]
  },
  {
   "cell_type": "code",
   "execution_count": 15,
   "id": "e2de2ed1",
   "metadata": {},
   "outputs": [
    {
     "data": {
      "text/plain": [
       "[4, 3, 2, 1]"
      ]
     },
     "execution_count": 15,
     "metadata": {},
     "output_type": "execute_result"
    }
   ],
   "source": [
    "#7.What will happen when you run the following code?\n",
    "\n",
    "\n",
    "# numbers = [1, 2, 3, 4]\n",
    "# numbers.sort().reverse() \n",
    "# print(numbers)\n",
    "\n",
    "\n",
    "# .sort() and .reverse() both return None when we print return None\n",
    "\n",
    "numbers = [1, 2, 3, 4]\n",
    "numbers.sort()\n",
    "numbers.reverse()\n",
    "numbers\n"
   ]
  },
  {
   "cell_type": "code",
   "execution_count": 21,
   "id": "76c3f328",
   "metadata": {},
   "outputs": [
    {
     "name": "stdout",
     "output_type": "stream",
     "text": [
      "[1, 2, 3, 4]\n"
     ]
    }
   ],
   "source": [
    "#8.What is the issue with this code?\n",
    "\n",
    "\n",
    "# numbers = [1, 2, 3]\n",
    "# # numbers = numbers.append(4)  when we assign the varibale while append it will return None\n",
    "# print(numbers)\n",
    "\n",
    "numbers = [1, 2, 3]\n",
    "numbers.append(4)  \n",
    "print(numbers)"
   ]
  },
  {
   "cell_type": "code",
   "execution_count": 25,
   "id": "4e03b70d",
   "metadata": {},
   "outputs": [
    {
     "name": "stdout",
     "output_type": "stream",
     "text": [
      "11\n"
     ]
    }
   ],
   "source": [
    "# #9.What will happen when you run the following code?\n",
    "\n",
    "\n",
    "# count = 10\n",
    "\n",
    "# def increment():\n",
    "#     count += 1 \n",
    "#     print(count)\n",
    "\n",
    "# increment()\n",
    "\n",
    "# UnboundLocalError: local variable 'count' referenced before assignment\n",
    "#  when we count count += 1 python check local variable there is no since there is no local variable hence it return error\n",
    "\n",
    "\n",
    "\n",
    "\n",
    "def increment():\n",
    "    count = 10\n",
    "    count += 1 \n",
    "    print(count)\n",
    "\n",
    "increment()"
   ]
  },
  {
   "cell_type": "code",
   "execution_count": 30,
   "id": "2034a700",
   "metadata": {},
   "outputs": [
    {
     "name": "stdout",
     "output_type": "stream",
     "text": [
      "n\n"
     ]
    }
   ],
   "source": [
    "#10.What error will occur in the following code?\n",
    "\n",
    "# text = \"Python\"\n",
    "# print(text[10])\n",
    "# IndexError: string index out of range -- > because text contains just 5 so it through an error\n",
    "\n",
    "text = \"Python\"\n",
    "print(text[5])"
   ]
  },
  {
   "cell_type": "code",
   "execution_count": 5,
   "id": "1bf753bf",
   "metadata": {},
   "outputs": [],
   "source": []
  },
  {
   "cell_type": "code",
   "execution_count": null,
   "id": "332e6058",
   "metadata": {},
   "outputs": [],
   "source": []
  },
  {
   "cell_type": "code",
   "execution_count": null,
   "id": "e9f9ec4a",
   "metadata": {},
   "outputs": [],
   "source": []
  },
  {
   "cell_type": "code",
   "execution_count": null,
   "id": "a4ac24f3",
   "metadata": {},
   "outputs": [],
   "source": []
  },
  {
   "cell_type": "code",
   "execution_count": null,
   "id": "a131a6e8",
   "metadata": {},
   "outputs": [],
   "source": []
  },
  {
   "cell_type": "code",
   "execution_count": null,
   "id": "9c76c104",
   "metadata": {},
   "outputs": [],
   "source": []
  },
  {
   "cell_type": "code",
   "execution_count": null,
   "id": "00877add",
   "metadata": {},
   "outputs": [],
   "source": []
  },
  {
   "cell_type": "code",
   "execution_count": null,
   "id": "5c9757c9",
   "metadata": {},
   "outputs": [],
   "source": []
  },
  {
   "cell_type": "code",
   "execution_count": null,
   "id": "77922c34",
   "metadata": {},
   "outputs": [],
   "source": []
  },
  {
   "cell_type": "code",
   "execution_count": null,
   "id": "85723416",
   "metadata": {},
   "outputs": [],
   "source": []
  },
  {
   "cell_type": "code",
   "execution_count": null,
   "id": "43418092",
   "metadata": {},
   "outputs": [],
   "source": []
  }
 ],
 "metadata": {
  "kernelspec": {
   "display_name": "Python 3 (ipykernel)",
   "language": "python",
   "name": "python3"
  },
  "language_info": {
   "codemirror_mode": {
    "name": "ipython",
    "version": 3
   },
   "file_extension": ".py",
   "mimetype": "text/x-python",
   "name": "python",
   "nbconvert_exporter": "python",
   "pygments_lexer": "ipython3",
   "version": "3.9.12"
  }
 },
 "nbformat": 4,
 "nbformat_minor": 5
}
