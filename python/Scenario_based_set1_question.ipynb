{
 "cells": [
  {
   "cell_type": "code",
   "execution_count": 3,
   "id": "7ea1f922",
   "metadata": {},
   "outputs": [
    {
     "name": "stdout",
     "output_type": "stream",
     "text": [
      "Enter your Age: 19\n",
      "He is eligible for vote\n"
     ]
    }
   ],
   "source": [
    "# cenario: A system checks if a user is eligible to vote based on their age.\n",
    "#  Write logic to ask the user for their age and determine if they are eligible to vote based on whether they are 18 or older.\n",
    "\n",
    "\n",
    "Age=int(input(\"Enter your Age: \"))\n",
    "if Age>=18:\n",
    "    print(\"He is eligible for vote\")\n",
    "else:\n",
    "    print('Not eligible for vote')"
   ]
  },
  {
   "cell_type": "code",
   "execution_count": 18,
   "id": "cea8137b",
   "metadata": {},
   "outputs": [
    {
     "data": {
      "text/plain": [
       "10"
      ]
     },
     "execution_count": 18,
     "metadata": {},
     "output_type": "execute_result"
    }
   ],
   "source": [
    "# 2.\tScenario: A program processes a list of numbers and needs to find the largest value.\n",
    "#  Write logic to identify and return the largest number from a given list.\n",
    "\n",
    "def largest_num(List):\n",
    "    l=0\n",
    "    r=len(List)-1\n",
    "    while l<r:\n",
    "        if List[l]>List[r]:\n",
    "            r-=1\n",
    "        else:\n",
    "            l+=1\n",
    "    return List[r]\n",
    "    \n",
    "largest_num([10,2,4,8,1])    "
   ]
  },
  {
   "cell_type": "code",
   "execution_count": 3,
   "id": "647c785c",
   "metadata": {},
   "outputs": [
    {
     "data": {
      "text/plain": [
       "('bonus amount is', 5000.0)"
      ]
     },
     "execution_count": 3,
     "metadata": {},
     "output_type": "execute_result"
    }
   ],
   "source": [
    "# 3.\tScenario: A company provides employees with a 10% bonus if their salary exceeds $50,000.\n",
    "#  Write logic to determine the bonus amount based on the given salary.\n",
    "\n",
    "def employee_bonus(bonus,salary):\n",
    "    return \"bonus amount is\",bonus*salary/100\n",
    "\n",
    "employee_bonus(10,50000)"
   ]
  },
  {
   "cell_type": "code",
   "execution_count": 31,
   "id": "5793965c",
   "metadata": {},
   "outputs": [
    {
     "data": {
      "text/plain": [
       "(4, 'is Even')"
      ]
     },
     "execution_count": 31,
     "metadata": {},
     "output_type": "execute_result"
    }
   ],
   "source": [
    "# 4.\tScenario: A program evaluates a number to determine if it is even or odd.\n",
    "\n",
    "def Odd_even(Number):\n",
    "    if Number%2!=0:\n",
    "        return Number,'is Odd Number'\n",
    "    else:\n",
    "        return Number,'is Even'\n",
    "    \n",
    "Odd_even(4)    "
   ]
  },
  {
   "cell_type": "code",
   "execution_count": 35,
   "id": "0ccf27d6",
   "metadata": {},
   "outputs": [
    {
     "data": {
      "text/plain": [
       "'nohtyp'"
      ]
     },
     "execution_count": 35,
     "metadata": {},
     "output_type": "execute_result"
    }
   ],
   "source": [
    "# 5.\tScenario: A text-processing tool reverses a given word or sentence for formatting purposes.\n",
    "#  Write logic to take a word or sentence as input and produce its reversed version.\n",
    "def reverse_word(Word):\n",
    "       return word[::-1]\n",
    "reverse_word('Python')"
   ]
  },
  {
   "cell_type": "code",
   "execution_count": 38,
   "id": "80b29fd8",
   "metadata": {},
   "outputs": [
    {
     "data": {
      "text/plain": [
       "('sorry your score is', 30, 'you are fail')"
      ]
     },
     "execution_count": 38,
     "metadata": {},
     "output_type": "execute_result"
    }
   ],
   "source": [
    "# 6.\tScenario: A grading system determines whether a student has passed or failed based on their score.\n",
    "#  Write logic to check if a student has passed a subject by scoring at least 40 marks.\n",
    "\n",
    "def Student_Mark(Mark):\n",
    "    if Mark<40:\n",
    "        return 'sorry your score is',Mark, 'you are fail'\n",
    "    else:\n",
    "        return 'your score is',Mark,'you are Pass'\n",
    "    \n",
    "Student_Mark(30)"
   ]
  },
  {
   "cell_type": "code",
   "execution_count": 5,
   "id": "8b72ce90",
   "metadata": {},
   "outputs": [
    {
     "data": {
      "text/plain": [
       "('Final Amount to pay', 1761.4)"
      ]
     },
     "execution_count": 5,
     "metadata": {},
     "output_type": "execute_result"
    }
   ],
   "source": [
    "# 7.\tScenario: A retail store offers a 20% discount if a customer’s total order exceeds $100. \n",
    "# Write logic to calculate the final amount to be paid after applying the discount.\n",
    "\n",
    "def discount(discount,total_order):\n",
    "    final_amount=(discount*total_order)/100\n",
    "    return 'Final Amount to pay',final_amount\n",
    "    \n",
    "discount(20,8807)    "
   ]
  },
  {
   "cell_type": "code",
   "execution_count": 3,
   "id": "4f2169af",
   "metadata": {},
   "outputs": [
    {
     "data": {
      "text/plain": [
       "\"you don't have enough money\""
      ]
     },
     "execution_count": 3,
     "metadata": {},
     "output_type": "execute_result"
    }
   ],
   "source": [
    "# 8.\tScenario: A banking system processes withdrawal requests and ensures the user has enough balance.\n",
    "\n",
    "#  Write logic to check if a user has enough balance before allowing a withdrawal and update the remaining balance accordingly.\n",
    "\n",
    "\n",
    "def check_balance(Minimum_amount,Actual_amount):\n",
    "    if Minimum_amount>=500:\n",
    "        print(\"You have enough money\")\n",
    "        User_Amount=int(input(\"Please enter your withdrawal amount: \"))\n",
    "        if User_Amount>Actual_amount:\n",
    "            return \"You don't enough balance your current balance is\",Actual_amount\n",
    "        else:\n",
    "            Current_amount=Actual_amount-User_Amount\n",
    "            return 'you withdrawal has been successflly current balance is',Current_amount\n",
    "    else:\n",
    "        return \"you don't have enough money\"\n",
    "    \n",
    "    \n",
    "check_balance(100,10000)    "
   ]
  },
  {
   "cell_type": "code",
   "execution_count": 19,
   "id": "6aad9c24",
   "metadata": {},
   "outputs": [
    {
     "data": {
      "text/plain": [
       "(2400, 'leap year')"
      ]
     },
     "execution_count": 19,
     "metadata": {},
     "output_type": "execute_result"
    }
   ],
   "source": [
    "# Scenario: A calendar system verifies whether a given year is a leap year based on standard leap year rules.\n",
    "#  Write logic to determine whether a given year is a leap year\n",
    "\n",
    "\n",
    "def leap_year(year):\n",
    "    if year%4==0:\n",
    "        if year%100==0:\n",
    "            if year%400==0:\n",
    "                return year,'leap year'\n",
    "            else:\n",
    "                return year,'not an leap year'\n",
    "        else:\n",
    "            return year,'leap year'\n",
    "    else:\n",
    "        return year,'not an leap year'\n",
    "leap_year(2400)    \n"
   ]
  },
  {
   "cell_type": "code",
   "execution_count": 21,
   "id": "96b5f2c3",
   "metadata": {},
   "outputs": [
    {
     "data": {
      "text/plain": [
       "[2, 4, 6, 8, 10]"
      ]
     },
     "execution_count": 21,
     "metadata": {},
     "output_type": "execute_result"
    }
   ],
   "source": [
    "# # 10.\tScenario: A program filters out only even numbers from a given list.\n",
    "#  Write logic to extract and return only the even numbers from a list.\n",
    "\n",
    "def extract_even(List):\n",
    "    res=[num for num in List if num%2==0]\n",
    "    return res\n",
    "extract_even([1,2,3,4,5,6,7,8,9,10])    "
   ]
  },
  {
   "cell_type": "code",
   "execution_count": null,
   "id": "d3ad2161",
   "metadata": {},
   "outputs": [],
   "source": []
  },
  {
   "cell_type": "code",
   "execution_count": null,
   "id": "ab2c6245",
   "metadata": {},
   "outputs": [],
   "source": []
  },
  {
   "cell_type": "code",
   "execution_count": null,
   "id": "7d347282",
   "metadata": {},
   "outputs": [],
   "source": []
  }
 ],
 "metadata": {
  "kernelspec": {
   "display_name": "Python 3 (ipykernel)",
   "language": "python",
   "name": "python3"
  },
  "language_info": {
   "codemirror_mode": {
    "name": "ipython",
    "version": 3
   },
   "file_extension": ".py",
   "mimetype": "text/x-python",
   "name": "python",
   "nbconvert_exporter": "python",
   "pygments_lexer": "ipython3",
   "version": "3.9.12"
  }
 },
 "nbformat": 4,
 "nbformat_minor": 5
}
