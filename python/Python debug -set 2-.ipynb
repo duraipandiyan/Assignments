{
 "cells": [
  {
   "cell_type": "code",
   "execution_count": 5,
   "id": "90e9fa4e",
   "metadata": {},
   "outputs": [
    {
     "name": "stdout",
     "output_type": "stream",
     "text": [
      "4.0\n"
     ]
    }
   ],
   "source": [
    "#1.Find the error in the following Python code:\n",
    "# import Math\n",
    "# print(Math.sqrt(16))\n",
    "\n",
    "# spell error \n",
    "import math\n",
    "print(math.sqrt(16))\n"
   ]
  },
  {
   "cell_type": "code",
   "execution_count": 7,
   "id": "55520fd2",
   "metadata": {},
   "outputs": [
    {
     "name": "stdout",
     "output_type": "stream",
     "text": [
      "15\n"
     ]
    }
   ],
   "source": [
    "#2.Find the error in the following Python code:\n",
    "# def my_function():\n",
    "#     x += 5\n",
    "#     print(x)\n",
    "\n",
    "# x = 10\n",
    "# my_function()\n",
    "\n",
    "# local variable 'x' referenced before assignment\n",
    "# There is no local variable x has been declered. it has been declered after the operation \n",
    "\n",
    "def my_function():\n",
    "    x = 10\n",
    "    x += 5\n",
    "    print(x)\n",
    "my_function()"
   ]
  },
  {
   "cell_type": "code",
   "execution_count": 17,
   "id": "f23899ca",
   "metadata": {},
   "outputs": [
    {
     "name": "stdout",
     "output_type": "stream",
     "text": [
      "x is 10\n"
     ]
    }
   ],
   "source": [
    "#3.x = 5\n",
    "# if x = 10:\n",
    "#     print(\"x is 10\")\n",
    "    \n",
    "# For conditional statement we have to check whether True or false.\n",
    "# But here we are assign x=10 which is why this show SyntaxError: invalid syntax\n",
    "if x == 10:\n",
    "    print(\"x is 10\")"
   ]
  },
  {
   "cell_type": "code",
   "execution_count": 25,
   "id": "c644c2f2",
   "metadata": {},
   "outputs": [
    {
     "name": "stdout",
     "output_type": "stream",
     "text": [
      "None\n"
     ]
    },
    {
     "data": {
      "text/plain": [
       "[2, 3, 5, 8]"
      ]
     },
     "execution_count": 25,
     "metadata": {},
     "output_type": "execute_result"
    }
   ],
   "source": [
    "#4.\n",
    "numbers = [5, 3, 8, 2]\n",
    "print(numbers.sort()) #sort function actually change the original list , when you print while sort so this return None\n",
    "numbers #Now this  has been sorted \n"
   ]
  },
  {
   "cell_type": "code",
   "execution_count": 31,
   "id": "c6bc9bfb",
   "metadata": {},
   "outputs": [
    {
     "name": "stdout",
     "output_type": "stream",
     "text": [
      "16\n"
     ]
    }
   ],
   "source": [
    "#5.\n",
    "def square(n):\n",
    "    return n * n # We should return the value \n",
    "\n",
    "print(square(4))\n"
   ]
  },
  {
   "cell_type": "code",
   "execution_count": 32,
   "id": "3a9dbcc0",
   "metadata": {},
   "outputs": [
    {
     "ename": "TypeError",
     "evalue": "'tuple' object does not support item assignment",
     "output_type": "error",
     "traceback": [
      "\u001b[1;31m---------------------------------------------------------------------------\u001b[0m",
      "\u001b[1;31mTypeError\u001b[0m                                 Traceback (most recent call last)",
      "Input \u001b[1;32mIn [32]\u001b[0m, in \u001b[0;36m<cell line: 3>\u001b[1;34m()\u001b[0m\n\u001b[0;32m      1\u001b[0m \u001b[38;5;66;03m#6.\u001b[39;00m\n\u001b[0;32m      2\u001b[0m my_tuple \u001b[38;5;241m=\u001b[39m (\u001b[38;5;241m1\u001b[39m, \u001b[38;5;241m2\u001b[39m, \u001b[38;5;241m3\u001b[39m)\n\u001b[1;32m----> 3\u001b[0m my_tuple[\u001b[38;5;241m1\u001b[39m] \u001b[38;5;241m=\u001b[39m \u001b[38;5;241m5\u001b[39m\n",
      "\u001b[1;31mTypeError\u001b[0m: 'tuple' object does not support item assignment"
     ]
    }
   ],
   "source": [
    "#6.\n",
    "my_tuple = (1, 2, 3)\n",
    "my_tuple[1] = 5\n",
    "# Tuple is immutable we can not modify the values "
   ]
  },
  {
   "cell_type": "code",
   "execution_count": 38,
   "id": "4a72685b",
   "metadata": {},
   "outputs": [
    {
     "name": "stdout",
     "output_type": "stream",
     "text": [
      "My name is Alice and I am 25 years old\n"
     ]
    }
   ],
   "source": [
    "#7.\n",
    "name = \"Alice\"\n",
    "age = 25\n",
    "print(\"My name is %s and I am %d years old\" % (name,age)) # need to add both variables, missing variable \n"
   ]
  },
  {
   "cell_type": "code",
   "execution_count": 45,
   "id": "3de969fe",
   "metadata": {},
   "outputs": [
    {
     "name": "stdout",
     "output_type": "stream",
     "text": [
      "Lists are equal\n"
     ]
    }
   ],
   "source": [
    "#8.\n",
    "a = [1, 2, 3]\n",
    "b = [1, 2, 3]\n",
    "if a is b: # \"is\" is to compare the both a and b object are same. == is check the data inside of list is same\n",
    "    print(\"Lists are equal\")\n",
    "    \n",
    "a = [1, 2, 3]\n",
    "b = [1, 2, 3]\n",
    "b=a\n",
    "if a is b: # Now b refer to boject a now both are represent the same memory\n",
    "    print(\"Lists are equal\")\n",
    "\n"
   ]
  },
  {
   "cell_type": "code",
   "execution_count": 48,
   "id": "dbe38465",
   "metadata": {},
   "outputs": [
    {
     "name": "stdout",
     "output_type": "stream",
     "text": [
      "5\n",
      "4\n",
      "3\n",
      "2\n"
     ]
    }
   ],
   "source": [
    "#9.\n",
    "for i in range(5, 1): # if we want to print reverse the we must specifiy s_v,end_value,step_value\n",
    "    print(i)\n",
    "    \n",
    "for i in range(5, 1,-1): #like wise\n",
    "    print(i)"
   ]
  },
  {
   "cell_type": "code",
   "execution_count": 52,
   "id": "30cb0523",
   "metadata": {},
   "outputs": [
    {
     "name": "stdout",
     "output_type": "stream",
     "text": [
      "John\n"
     ]
    }
   ],
   "source": [
    "#10.\n",
    "# student = {\"name\": \"John\", \"age\": 20}\n",
    "# print(student[name]) # the key which we were given in 'str' but here we gave non str variable\n",
    "\n",
    "#10.\n",
    "student = {\"name\": \"John\", \"age\": 20}\n",
    "print(student['name'])\n"
   ]
  },
  {
   "cell_type": "code",
   "execution_count": null,
   "id": "6b0cf26e",
   "metadata": {},
   "outputs": [],
   "source": []
  },
  {
   "cell_type": "code",
   "execution_count": null,
   "id": "7d684d7e",
   "metadata": {},
   "outputs": [],
   "source": []
  }
 ],
 "metadata": {
  "kernelspec": {
   "display_name": "Python 3 (ipykernel)",
   "language": "python",
   "name": "python3"
  },
  "language_info": {
   "codemirror_mode": {
    "name": "ipython",
    "version": 3
   },
   "file_extension": ".py",
   "mimetype": "text/x-python",
   "name": "python",
   "nbconvert_exporter": "python",
   "pygments_lexer": "ipython3",
   "version": "3.9.12"
  }
 },
 "nbformat": 4,
 "nbformat_minor": 5
}
