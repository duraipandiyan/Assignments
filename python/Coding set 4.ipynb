{
 "cells": [
  {
   "cell_type": "code",
   "execution_count": null,
   "id": "236d4978",
   "metadata": {
    "id": "236d4978"
   },
   "outputs": [],
   "source": [
    "#1.Find the GCD of Two Numbers\n",
    "# Question: Write a Python program to find the Greatest Common Divisor (GCD) of 36 and 60.\n"
   ]
  },
  {
   "cell_type": "code",
   "execution_count": 1,
   "id": "e1bfc6af",
   "metadata": {
    "id": "e1bfc6af"
   },
   "outputs": [
    {
     "data": {
      "text/plain": [
       "24"
      ]
     },
     "execution_count": 1,
     "metadata": {},
     "output_type": "execute_result"
    }
   ],
   "source": [
    "#2. Find the Sum of Digits of a Number\n",
    "# Question: Write a Python program to find the sum of the digits of the number 987.\n",
    "def sum_digits(Digits):\n",
    "    s=0\n",
    "    value=[i for i in str(Digits)]\n",
    "    for j in value:\n",
    "        s+=int(j)\n",
    "    return s  \n",
    "    \n",
    "sum_digits(987)    \n",
    "\n"
   ]
  },
  {
   "cell_type": "code",
   "execution_count": null,
   "id": "e051bb22",
   "metadata": {
    "id": "e051bb22"
   },
   "outputs": [],
   "source": [
    "#3. Find All Armstrong Numbers Between 1 and 1000\n",
    "# Question: Write a Python program to print all Armstrong numbers between 1 and 1000.\n",
    "def Armstrong_numbers(Number):\n",
    "    Res=0\n",
    "    digit=0\n",
    "#     Num=Number\n",
    "    for num in range(1,Number):\n",
    "        L=[i for i in str(num)]\n",
    "        while num>0:\n",
    "            digit=Number%10\n",
    "            Res=Res+digit**len(L)\n",
    "            Number=Number//10\n",
    "    print(Res)        \n",
    "Armstrong_numbers(1000)"
   ]
  },
  {
   "cell_type": "code",
   "execution_count": 1,
   "id": "dbffe07b",
   "metadata": {
    "id": "dbffe07b"
   },
   "outputs": [
    {
     "name": "stdout",
     "output_type": "stream",
     "text": [
      "{'p': 1, 'r': 2, 'o': 1, 'g': 2, 'a': 1, 'm': 2, 'i': 1, 'n': 1}\n"
     ]
    }
   ],
   "source": [
    "#4.Count the Frequency of Each Character in a String\n",
    "# Question: Write a Python program to count the frequency of each character in \"programming\".\n",
    " \n",
    "def frequency_count(character):\n",
    "    dic={}\n",
    "    for i in character:\n",
    "        if i in dic:\n",
    "            dic[i]+=1\n",
    "        else:\n",
    "            dic[i]=1\n",
    "    print(dic)        \n",
    "\n",
    "\n",
    "frequency_count(\"programming\")"
   ]
  },
  {
   "cell_type": "code",
   "execution_count": 4,
   "id": "f092013b",
   "metadata": {
    "id": "f092013b"
   },
   "outputs": [
    {
     "data": {
      "text/plain": [
       "[1, 4, 9, 16, 25, 36, 49, 64, 81, 100]"
      ]
     },
     "execution_count": 4,
     "metadata": {},
     "output_type": "execute_result"
    }
   ],
   "source": [
    "#5. Generate a List of Squares of Numbers from 1 to 10\n",
    "# \n",
    "# Question: Write a Python program to generate a list containing squares of numbers from 1 to 10.\n",
    "\n",
    "List=[i*i for i in range(1,10+1) ]\n",
    "List"
   ]
  },
  {
   "cell_type": "code",
   "execution_count": null,
   "id": "3b44c858",
   "metadata": {
    "id": "3b44c858"
   },
   "outputs": [],
   "source": []
  },
  {
   "cell_type": "code",
   "execution_count": null,
   "id": "3d849771",
   "metadata": {
    "id": "3d849771"
   },
   "outputs": [],
   "source": []
  },
  {
   "cell_type": "code",
   "execution_count": null,
   "id": "7840dd7f",
   "metadata": {
    "id": "7840dd7f"
   },
   "outputs": [],
   "source": []
  },
  {
   "cell_type": "code",
   "execution_count": null,
   "id": "e7d58228",
   "metadata": {
    "id": "e7d58228"
   },
   "outputs": [],
   "source": []
  },
  {
   "cell_type": "code",
   "execution_count": null,
   "id": "85a782d9",
   "metadata": {
    "id": "85a782d9"
   },
   "outputs": [],
   "source": []
  }
 ],
 "metadata": {
  "colab": {
   "provenance": []
  },
  "kernelspec": {
   "display_name": "Python 3 (ipykernel)",
   "language": "python",
   "name": "python3"
  },
  "language_info": {
   "codemirror_mode": {
    "name": "ipython",
    "version": 3
   },
   "file_extension": ".py",
   "mimetype": "text/x-python",
   "name": "python",
   "nbconvert_exporter": "python",
   "pygments_lexer": "ipython3",
   "version": "3.9.12"
  }
 },
 "nbformat": 4,
 "nbformat_minor": 5
}
