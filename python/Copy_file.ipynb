{
 "cells": [
  {
   "cell_type": "code",
   "execution_count": 1,
   "id": "29173dff",
   "metadata": {},
   "outputs": [
    {
     "name": "stdout",
     "output_type": "stream",
     "text": [
      "Sub-fields in AI are\n",
      "\n",
      "1 . Machine Learning\n",
      "2 . Neural Networks\n",
      "3 . Vision\n",
      "4 . Robotics\n",
      "5 . Speech Processing\n",
      "6 . Natural Language Processing\n"
     ]
    }
   ],
   "source": [
    "from All_function_file import Allfunction\n",
    "\n",
    "Obj=Allfunction()\n",
    "Obj.Subfields([\"Machine Learning\",\"Neural Networks\",\"Vision\",\"Robotics\",\"Speech Processing\",\"Natural Language Processing\"])\n"
   ]
  },
  {
   "cell_type": "code",
   "execution_count": 2,
   "id": "f523b1e4",
   "metadata": {},
   "outputs": [
    {
     "data": {
      "text/plain": [
       "(5, ' is odd number')"
      ]
     },
     "execution_count": 2,
     "metadata": {},
     "output_type": "execute_result"
    }
   ],
   "source": [
    "Obj.OddEven(5)"
   ]
  },
  {
   "cell_type": "code",
   "execution_count": 3,
   "id": "22016cb1",
   "metadata": {},
   "outputs": [
    {
     "data": {
      "text/plain": [
       "'Both are eligible for marry'"
      ]
     },
     "execution_count": 3,
     "metadata": {},
     "output_type": "execute_result"
    }
   ],
   "source": [
    "Obj.eligibility(21,18)"
   ]
  },
  {
   "cell_type": "code",
   "execution_count": 4,
   "id": "76216287",
   "metadata": {},
   "outputs": [
    {
     "data": {
      "text/plain": [
       "78.60000000000001"
      ]
     },
     "execution_count": 4,
     "metadata": {},
     "output_type": "execute_result"
    }
   ],
   "source": [
    "Obj.percentage(50,89,78,98,78)"
   ]
  },
  {
   "cell_type": "code",
   "execution_count": 5,
   "id": "918d5f5b",
   "metadata": {},
   "outputs": [
    {
     "data": {
      "text/plain": [
       "10"
      ]
     },
     "execution_count": 5,
     "metadata": {},
     "output_type": "execute_result"
    }
   ],
   "source": [
    "Obj.perimeter(2,4,4)"
   ]
  },
  {
   "cell_type": "code",
   "execution_count": 6,
   "id": "587b2532",
   "metadata": {},
   "outputs": [
    {
     "data": {
      "text/plain": [
       "544.0"
      ]
     },
     "execution_count": 6,
     "metadata": {},
     "output_type": "execute_result"
    }
   ],
   "source": [
    "Obj.triangle(34,32)"
   ]
  },
  {
   "cell_type": "code",
   "execution_count": null,
   "id": "9b46c739",
   "metadata": {},
   "outputs": [],
   "source": []
  }
 ],
 "metadata": {
  "kernelspec": {
   "display_name": "Python 3 (ipykernel)",
   "language": "python",
   "name": "python3"
  },
  "language_info": {
   "codemirror_mode": {
    "name": "ipython",
    "version": 3
   },
   "file_extension": ".py",
   "mimetype": "text/x-python",
   "name": "python",
   "nbconvert_exporter": "python",
   "pygments_lexer": "ipython3",
   "version": "3.9.12"
  }
 },
 "nbformat": 4,
 "nbformat_minor": 5
}
