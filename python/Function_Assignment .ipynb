{
 "cells": [
  {
   "cell_type": "code",
   "execution_count": 25,
   "id": "cbcafa03",
   "metadata": {},
   "outputs": [
    {
     "name": "stdout",
     "output_type": "stream",
     "text": [
      "Sub-fields in AI are\n",
      "\n",
      "1 . Machine Learning\n",
      "2 . Neural Networks\n",
      "3 . Vision\n",
      "4 . Robotics\n",
      "5 . Speech Processing\n",
      "6 . Natural Language Processing\n"
     ]
    }
   ],
   "source": [
    "# Create a class and function, and list out the items in the list\n",
    "def SubfieldsInAI_Subfields(fields):\n",
    "    print(\"Sub-fields in AI are\")\n",
    "    print('')\n",
    "    count=0\n",
    "    for i in fields:\n",
    "        count+=1\n",
    "        print(count,\".\",i)\n",
    "\n",
    "SubfieldsInAI_Subfields([\"Machine Learning\",\"Neural Networks\",\"Vision\",\"Robotics\",\"Speech Processing\",\"Natural Language Processing\"])"
   ]
  },
  {
   "cell_type": "code",
   "execution_count": 61,
   "id": "5d6abcb2",
   "metadata": {},
   "outputs": [
    {
     "name": "stdout",
     "output_type": "stream",
     "text": [
      "(2, ' is even number')\n"
     ]
    }
   ],
   "source": [
    "# Create a function that checks whether the given number is Odd or Even\n",
    "def Odd_Even(num):\n",
    "    if num%2!=0:\n",
    "        return num,\" is odd number\"\n",
    "    else:\n",
    "        return num,\" is even number\"\n",
    "    \n",
    "print(Odd_Even(2))"
   ]
  },
  {
   "cell_type": "code",
   "execution_count": 43,
   "id": "0882feec",
   "metadata": {},
   "outputs": [
    {
     "data": {
      "text/plain": [
       "'Male is not eligible for marry but female eligible for marry'"
      ]
     },
     "execution_count": 43,
     "metadata": {},
     "output_type": "execute_result"
    }
   ],
   "source": [
    "# Create a function that tells elegibility of marriage for male and female according to \n",
    "# their age limit like 21 for male and 18 for female\n",
    "\n",
    "def marrage_eligibility(male_age,female_age):\n",
    "    if male_age<21 and female_age<18:\n",
    "        return \"Both are not eligible for marry\"\n",
    "    elif male_age>=21 and female_age<18:\n",
    "        return \"Male eligible for marry but female not eligible for marry\"\n",
    "    elif male_age<21 and female_age>=18:\n",
    "        return \"Male is not eligible for marry but female eligible for marry\"\n",
    "    else:\n",
    "        return \"Both are eligible for marry\"\n",
    "        \n",
    "        \n",
    "    \n",
    "marrage_eligibility(18,21)"
   ]
  },
  {
   "cell_type": "code",
   "execution_count": 48,
   "id": "f6c2013a",
   "metadata": {},
   "outputs": [
    {
     "data": {
      "text/plain": [
       "93.60000000000001"
      ]
     },
     "execution_count": 48,
     "metadata": {},
     "output_type": "execute_result"
    }
   ],
   "source": [
    "# FindPercent.percentage()\n",
    "def findpercentage(English,Tamil,Maths,science, social):\n",
    "    Total=English+Tamil+Maths+science+social\n",
    "    return Total/500*100   \n",
    "findpercentage(98,87,95,95,93)    \n",
    "    "
   ]
  },
  {
   "cell_type": "code",
   "execution_count": 56,
   "id": "7fcb47bf",
   "metadata": {},
   "outputs": [
    {
     "data": {
      "text/plain": [
       "544.0"
      ]
     },
     "execution_count": 56,
     "metadata": {},
     "output_type": "execute_result"
    }
   ],
   "source": [
    "#print area and perimeter of triangle using class and functions\n",
    "class triangle:\n",
    "    def triangle(self,Height,Breadth):\n",
    "        Area_formula=(Height*Breadth)/2\n",
    "        return Area_formula\n",
    "\n",
    "obj=triangle()\n",
    "obj.triangle(32,34)"
   ]
  },
  {
   "cell_type": "code",
   "execution_count": 59,
   "id": "29b077fd",
   "metadata": {},
   "outputs": [
    {
     "data": {
      "text/plain": [
       "10"
      ]
     },
     "execution_count": 59,
     "metadata": {},
     "output_type": "execute_result"
    }
   ],
   "source": [
    "class perimeter:\n",
    "    def perimeter(self,Height1, Height2,Breadth):\n",
    "        Perimeter_formula=Height1+Height2+Breadth\n",
    "        return  Perimeter_formula\n",
    "obj=perimeter()\n",
    "obj.perimeter(2,4,4)"
   ]
  },
  {
   "cell_type": "code",
   "execution_count": null,
   "id": "66dd574b",
   "metadata": {},
   "outputs": [],
   "source": []
  }
 ],
 "metadata": {
  "kernelspec": {
   "display_name": "Python 3 (ipykernel)",
   "language": "python",
   "name": "python3"
  },
  "language_info": {
   "codemirror_mode": {
    "name": "ipython",
    "version": 3
   },
   "file_extension": ".py",
   "mimetype": "text/x-python",
   "name": "python",
   "nbconvert_exporter": "python",
   "pygments_lexer": "ipython3",
   "version": "3.9.12"
  }
 },
 "nbformat": 4,
 "nbformat_minor": 5
}
