{
 "cells": [
  {
   "cell_type": "code",
   "execution_count": 2,
   "id": "5fd5c475",
   "metadata": {},
   "outputs": [
    {
     "name": "stdout",
     "output_type": "stream",
     "text": [
      "1 2 3 4 5 "
     ]
    }
   ],
   "source": [
    "# 1.Write a Python program that prints numbers from 1 to 5.\n",
    "# Expected Output:\n",
    "# 1 2 3 4 5\n",
    "\n",
    "def sequence_num(Num):\n",
    "    for i in range(1,Num+1):\n",
    "        print(i,end=' ')\n",
    "sequence_num(5)    \n"
   ]
  },
  {
   "cell_type": "code",
   "execution_count": 38,
   "id": "3c8bc472",
   "metadata": {},
   "outputs": [
    {
     "name": "stdout",
     "output_type": "stream",
     "text": [
      "2 4 6 8 10 "
     ]
    }
   ],
   "source": [
    "# 2.Write a Python program to print the first 5 even numbers. Expected Output:\n",
    "# 2 4 6 8 10\n",
    "\n",
    "def extract_even(List):\n",
    "    for i in List:\n",
    "        if i%2==0:\n",
    "            print(i,end=' ')\n",
    "extract_even([1,2,3,4,5,6,7,8,9,10])  \n"
   ]
  },
  {
   "cell_type": "code",
   "execution_count": 9,
   "id": "5e7af211",
   "metadata": {},
   "outputs": [
    {
     "data": {
      "text/plain": [
       "55"
      ]
     },
     "execution_count": 9,
     "metadata": {},
     "output_type": "execute_result"
    }
   ],
   "source": [
    "# 3.Write a Python program to print the sum of numbers from 1 to 10. \n",
    "# Expected Output:55\n",
    "def sum_num(Num):\n",
    "    s=0\n",
    "    for i in range(1,Num+1):\n",
    "        s+=i \n",
    "    return s\n",
    "sum_num(10)    "
   ]
  },
  {
   "cell_type": "code",
   "execution_count": 10,
   "id": "ac09aa1a",
   "metadata": {},
   "outputs": [
    {
     "data": {
      "text/plain": [
       "120"
      ]
     },
     "execution_count": 10,
     "metadata": {},
     "output_type": "execute_result"
    }
   ],
   "source": [
    "# 4.Write a Python function to find the factorial of 5. Expected Output:\n",
    "# 120\n",
    "\n",
    "def factorial(Num):\n",
    "    fact=1\n",
    "    for i in range(1,Num+1):\n",
    "        fact*=i \n",
    "    return fact    \n",
    "    \n",
    "factorial(5)    "
   ]
  },
  {
   "cell_type": "code",
   "execution_count": 34,
   "id": "8ab9fc8a",
   "metadata": {},
   "outputs": [
    {
     "name": "stdout",
     "output_type": "stream",
     "text": [
      "7 prime Number\n"
     ]
    }
   ],
   "source": [
    "# 5.Write a Python program to check if a number is prime. Expected Output (for input 7):\n",
    "# 7 is a prime number\n",
    "\n",
    "def prime_num(num):\n",
    "    counter=0\n",
    "    for i in range(2,num+1):\n",
    "        if num%i==0:\n",
    "            counter+=1\n",
    "    if counter==1:\n",
    "        print(i,\"prime Number\")\n",
    "    else:\n",
    "        print(i,\"Not an prime\")\n",
    "prime_num(7)"
   ]
  },
  {
   "cell_type": "code",
   "execution_count": null,
   "id": "daef4b05",
   "metadata": {},
   "outputs": [],
   "source": [
    "\n",
    "\n"
   ]
  },
  {
   "cell_type": "code",
   "execution_count": null,
   "id": "0f55d1bd",
   "metadata": {},
   "outputs": [],
   "source": []
  }
 ],
 "metadata": {
  "kernelspec": {
   "display_name": "Python 3 (ipykernel)",
   "language": "python",
   "name": "python3"
  },
  "language_info": {
   "codemirror_mode": {
    "name": "ipython",
    "version": 3
   },
   "file_extension": ".py",
   "mimetype": "text/x-python",
   "name": "python",
   "nbconvert_exporter": "python",
   "pygments_lexer": "ipython3",
   "version": "3.9.12"
  }
 },
 "nbformat": 4,
 "nbformat_minor": 5
}
