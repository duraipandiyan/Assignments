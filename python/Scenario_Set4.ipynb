{
 "cells": [
  {
   "cell_type": "code",
   "execution_count": 3,
   "id": "eae09333",
   "metadata": {},
   "outputs": [
    {
     "data": {
      "text/plain": [
       "79"
      ]
     },
     "execution_count": 3,
     "metadata": {},
     "output_type": "execute_result"
    }
   ],
   "source": [
    "# : A program needs to find the second largest number in a given list of numbers.\n",
    "def second_largest_num(List):\n",
    "    return sorted(List)[-2]\n",
    "\n",
    "second_largest_num([10,69,2,79,100])"
   ]
  },
  {
   "cell_type": "code",
   "execution_count": null,
   "id": "5ece83bc",
   "metadata": {},
   "outputs": [],
   "source": [
    "# A function needs to convert an integer to its binary representation without using Python’s built-in bin() function.\n",
    "\n",
    "def integer_binary(Binary):\n",
    "    pass\n",
    "    \n",
    "integer_binary(101101)    "
   ]
  },
  {
   "cell_type": "code",
   "execution_count": 4,
   "id": "122c563d",
   "metadata": {},
   "outputs": [
    {
     "data": {
      "text/plain": [
       "'0b101101'"
      ]
     },
     "execution_count": 4,
     "metadata": {},
     "output_type": "execute_result"
    }
   ],
   "source": [
    "bin(45)"
   ]
  },
  {
   "cell_type": "code",
   "execution_count": 22,
   "id": "3c569cc0",
   "metadata": {},
   "outputs": [
    {
     "name": "stdout",
     "output_type": "stream",
     "text": [
      "[2, 4, 5, 6, 7, 8, 9, 10, 11, 12]\n"
     ]
    }
   ],
   "source": [
    "# A function needs to merge two sorted lists into a single sorted list efficiently.\n",
    "#  Write logic to merge two sorted lists into one sorted list.\n",
    "\n",
    "\n",
    "def merge_two_list(List1,List2):\n",
    "    New_list=[]\n",
    "    for i in List1:\n",
    "        New_list.append(i)\n",
    "    for j in List2:\n",
    "        New_list.append(j)\n",
    "    print(New_list)    \n",
    "    \n",
    "    \n",
    "merge_two_list([2,4,5,6,7],[8,9,10,11,12])"
   ]
  },
  {
   "cell_type": "code",
   "execution_count": 12,
   "id": "1ab7a7b3",
   "metadata": {},
   "outputs": [],
   "source": [
    "# 45%2"
   ]
  },
  {
   "cell_type": "code",
   "execution_count": null,
   "id": "0e1f4a8a",
   "metadata": {},
   "outputs": [],
   "source": [
    "# A function needs to find the first non-repeating character in a string for text processing\n",
    "# Write logic to find the first non-repeating character in a given string."
   ]
  },
  {
   "cell_type": "code",
   "execution_count": 24,
   "id": "f2b5a09a",
   "metadata": {},
   "outputs": [
    {
     "data": {
      "text/plain": [
       "{5, 6}"
      ]
     },
     "execution_count": 24,
     "metadata": {},
     "output_type": "execute_result"
    }
   ],
   "source": [
    "# A program needs to identify common elements between two lists for data filtering.\n",
    "#  Write logic to find the common elements between two lists\n",
    "\n",
    "\n",
    "def comman_list(List1,List2):\n",
    "    return set(List1)&set(List2)\n",
    "    \n",
    "comman_list([2,4,5,6,7],[6,5,10,11,12])"
   ]
  },
  {
   "cell_type": "code",
   "execution_count": 27,
   "id": "5443cacf",
   "metadata": {},
   "outputs": [
    {
     "data": {
      "text/plain": [
       "9678"
      ]
     },
     "execution_count": 27,
     "metadata": {},
     "output_type": "execute_result"
    }
   ],
   "source": [
    "# A function is required to reverse a given number.\n",
    "#  Write logic to reverse a given number.\n",
    "\n",
    "def reverse_num(Number):\n",
    "    res=0\n",
    "    digit=0\n",
    "    while Number>0:\n",
    "        digit=Number%10\n",
    "        res=res*10+digit\n",
    "        Number=Number//10\n",
    "    return res\n",
    "reverse_num(8769)    \n"
   ]
  },
  {
   "cell_type": "code",
   "execution_count": 28,
   "id": "5d535b3e",
   "metadata": {},
   "outputs": [
    {
     "name": "stdout",
     "output_type": "stream",
     "text": [
      "{'python': 1, 'developer': 1}\n"
     ]
    }
   ],
   "source": [
    "# A program needs to count the number of words in a given sentence.\n",
    "#  Write logic to count the number of words in a given sentence.\n",
    "\n",
    "def cound_word(Sentence):\n",
    "    dic={}\n",
    "    for i in Sentence.split():\n",
    "        if i in dic:\n",
    "            dic[i]+=1\n",
    "        else:\n",
    "            dic[i]=1\n",
    "    print(dic)        \n",
    "            \n",
    "    \n",
    "    \n",
    "    \n",
    "    \n",
    "    \n",
    "cound_word('python developer')    "
   ]
  },
  {
   "cell_type": "code",
   "execution_count": 30,
   "id": "da35094b",
   "metadata": {},
   "outputs": [
    {
     "data": {
      "text/plain": [
       "120"
      ]
     },
     "execution_count": 30,
     "metadata": {},
     "output_type": "execute_result"
    }
   ],
   "source": [
    "# A function needs to compute the factorial of a number using iteration instead of recursion\n",
    "\n",
    "def fact(Num):\n",
    "    if Num==1:\n",
    "        return 1\n",
    "    else:\n",
    "        return Num*fact(Num-1)\n",
    "    \n",
    "    \n",
    "    \n",
    "fact(5)    "
   ]
  },
  {
   "cell_type": "code",
   "execution_count": 33,
   "id": "57414043",
   "metadata": {},
   "outputs": [
    {
     "name": "stdout",
     "output_type": "stream",
     "text": [
      "HI\n",
      "DURAI\n",
      "PANDI\n"
     ]
    }
   ],
   "source": [
    "# A program is required to convert all strings in a list to uppercase.\n",
    "#  Write logic to convert all strings in a list to uppercase.\n",
    "\n",
    "\n",
    "def list_uppercase(List):\n",
    "    for i in List:\n",
    "        print(i.upper())\n",
    "    \n",
    "    \n",
    "list_uppercase(['Hi','Durai','Pandi'])    "
   ]
  },
  {
   "cell_type": "code",
   "execution_count": null,
   "id": "b6f398b0",
   "metadata": {},
   "outputs": [],
   "source": [
    "# A function is needed to compute the greatest common divisor (GCD) of two numbers using the Euclidean algorithm.\n",
    "#  Write logic to calculate the GCD of two numbers using the Euclidean algorithm.\n"
   ]
  },
  {
   "cell_type": "code",
   "execution_count": null,
   "id": "b2a46ff2",
   "metadata": {},
   "outputs": [],
   "source": []
  }
 ],
 "metadata": {
  "kernelspec": {
   "display_name": "Python 3 (ipykernel)",
   "language": "python",
   "name": "python3"
  },
  "language_info": {
   "codemirror_mode": {
    "name": "ipython",
    "version": 3
   },
   "file_extension": ".py",
   "mimetype": "text/x-python",
   "name": "python",
   "nbconvert_exporter": "python",
   "pygments_lexer": "ipython3",
   "version": "3.9.12"
  }
 },
 "nbformat": 4,
 "nbformat_minor": 5
}
