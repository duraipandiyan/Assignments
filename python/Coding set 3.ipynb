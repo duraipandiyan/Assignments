{
 "cells": [
  {
   "cell_type": "code",
   "execution_count": 4,
   "id": "511e5dbe",
   "metadata": {},
   "outputs": [
    {
     "data": {
      "text/plain": [
       "[1, 4, 9, 16, 25]"
      ]
     },
     "execution_count": 4,
     "metadata": {},
     "output_type": "execute_result"
    }
   ],
   "source": [
    "# #1. Square of Numbers from 1 to 5\n",
    "# Output:\n",
    "# 1 4 9 16 25\n",
    "\n",
    "def Square_number(Number):\n",
    "    Square_number=[i*i for i in range(1,Number+1)]\n",
    "    return Square_number\n",
    "    \n",
    "Square_number(5)    "
   ]
  },
  {
   "cell_type": "code",
   "execution_count": 7,
   "id": "e886abee",
   "metadata": {},
   "outputs": [
    {
     "name": "stdout",
     "output_type": "stream",
     "text": [
      "10 5\n"
     ]
    }
   ],
   "source": [
    "# #2.Swap Two Variables Without Using a Temporary Variable\n",
    "# Question: Write a Python program to swap two variables a = 5 and b = 10 without using a temporary variable.\n",
    "\n",
    "a=5\n",
    "b=10\n",
    "a,b=b,a\n",
    "print(a,b)\n"
   ]
  },
  {
   "cell_type": "code",
   "execution_count": 11,
   "id": "adfc0479",
   "metadata": {},
   "outputs": [
    {
     "data": {
      "text/plain": [
       "([12, 24, 40, 56], [17, 19, 35])"
      ]
     },
     "execution_count": 11,
     "metadata": {},
     "output_type": "execute_result"
    }
   ],
   "source": [
    "#  #3.Find Even and Odd Numbers in a List\n",
    "# Question: Write a Python program to separate even and odd numbers from the list [12, 17, 19, 24, 35, 40, 56].\n",
    "def Odd_even(List):\n",
    "    Even=[i for i in List if i%2==0]\n",
    "    Odd=[j for j in List if j%2!=0]\n",
    "    return Even,Odd\n",
    "Odd_even([12, 17, 19, 24, 35, 40, 56])"
   ]
  },
  {
   "cell_type": "code",
   "execution_count": 10,
   "id": "9bd0afd7",
   "metadata": {},
   "outputs": [
    {
     "data": {
      "text/plain": [
       "54321"
      ]
     },
     "execution_count": 10,
     "metadata": {},
     "output_type": "execute_result"
    }
   ],
   "source": [
    "#4. Reverse a Number\n",
    "# Question: Write a Python program to reverse the number 12345.\n",
    "\n",
    "def reverse_num(Number):\n",
    "    Res=0\n",
    "    digit=0\n",
    "    while Number>0:\n",
    "        digit=Number%10\n",
    "        Res=Res*10+digit\n",
    "        Number=Number//10\n",
    "    return Res    \n",
    "    \n",
    "reverse_num(12345)    "
   ]
  },
  {
   "cell_type": "code",
   "execution_count": 12,
   "id": "baf1f666",
   "metadata": {},
   "outputs": [
    {
     "data": {
      "text/plain": [
       "45"
      ]
     },
     "execution_count": 12,
     "metadata": {},
     "output_type": "execute_result"
    }
   ],
   "source": [
    "#5. Find the Second Largest Number in a List\n",
    "# Question: Write a Python program to find the second largest number in the list [12, 45, 98, 34, 23].\n",
    "\n",
    "def second_largest_num(List):\n",
    "    return sorted(List)[-2]    \n",
    "second_largest_num([12, 45, 98, 34, 23])    \n"
   ]
  },
  {
   "cell_type": "code",
   "execution_count": null,
   "id": "eb6e77d2",
   "metadata": {},
   "outputs": [],
   "source": []
  },
  {
   "cell_type": "code",
   "execution_count": null,
   "id": "cf27438f",
   "metadata": {},
   "outputs": [],
   "source": []
  },
  {
   "cell_type": "code",
   "execution_count": null,
   "id": "8a8e84b3",
   "metadata": {},
   "outputs": [],
   "source": []
  },
  {
   "cell_type": "code",
   "execution_count": null,
   "id": "a73f86c4",
   "metadata": {},
   "outputs": [],
   "source": []
  }
 ],
 "metadata": {
  "kernelspec": {
   "display_name": "Python 3 (ipykernel)",
   "language": "python",
   "name": "python3"
  },
  "language_info": {
   "codemirror_mode": {
    "name": "ipython",
    "version": 3
   },
   "file_extension": ".py",
   "mimetype": "text/x-python",
   "name": "python",
   "nbconvert_exporter": "python",
   "pygments_lexer": "ipython3",
   "version": "3.9.12"
  }
 },
 "nbformat": 4,
 "nbformat_minor": 5
}
