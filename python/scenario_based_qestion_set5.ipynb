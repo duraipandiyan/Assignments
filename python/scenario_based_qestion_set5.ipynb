{
 "cells": [
  {
   "cell_type": "code",
   "execution_count": null,
   "id": "33dda4a5",
   "metadata": {},
   "outputs": [],
   "source": [
    "# A program needs to determine the largest prime factor of a given number for mathematical computations.\n",
    "#  Write logic to find the largest prime factor of a given number\n"
   ]
  },
  {
   "cell_type": "code",
   "execution_count": 3,
   "id": "e04300ea",
   "metadata": {},
   "outputs": [
    {
     "name": "stdout",
     "output_type": "stream",
     "text": [
      "100 117 114 97 105 "
     ]
    }
   ],
   "source": [
    "# 2.\tScenario: A system needs to convert a Roman numeral string into its integer equivalent for numerical processing.\n",
    "#     Write logic to convert a given Roman numeral string into an integer\n",
    "\n",
    "def roman_string(String):\n",
    "    for i in String:\n",
    "        print(ord(i),end=\" \")\n",
    "    \n",
    "    \n",
    "roman_string('durai')    "
   ]
  },
  {
   "cell_type": "code",
   "execution_count": null,
   "id": "a833be26",
   "metadata": {},
   "outputs": [],
   "source": [
    "# 3.\tScenario: A text-processing application analyzes a list of words to find the longest common prefix.\n",
    "#  Write logic to find the longest common prefix among a list of strings.\n"
   ]
  },
  {
   "cell_type": "code",
   "execution_count": 16,
   "id": "84ceef49",
   "metadata": {},
   "outputs": [
    {
     "data": {
      "text/plain": [
       "('Mul', 5.0)"
      ]
     },
     "execution_count": 16,
     "metadata": {},
     "output_type": "execute_result"
    }
   ],
   "source": [
    "# 4.\tScenario: A calculator program takes two numbers and an operator to perform a mathematical operation.\n",
    "#  Write logic to take two numbers and an operator (+, -, *, /) and perform the corresponding operation.\n",
    "class Arithmatic:\n",
    "    def Addtion(self,Num1,Num2):\n",
    "        Res=Num1+Num2\n",
    "        return \"Addition\",Res\n",
    "    def sub(self,Num1,Num2):\n",
    "         Res=Num1-Num2\n",
    "         return \"Sub\", Res\n",
    "    def Mul(self,Num1,Num2):\n",
    "         Res=Num1*Num2\n",
    "         return \"Mul\", Res \n",
    "    def Div(self,Num1,Num2):\n",
    "         Res=Num1/Num2\n",
    "         return \"Mul\", Res \n",
    "        \n",
    "    \n",
    "Obj=Arithmatic()    \n",
    "Obj.Addtion(20,10) \n",
    "Obj.sub(20,10)\n",
    "Obj.Mul(20,10)\n",
    "Obj.Div(10,2)"
   ]
  },
  {
   "cell_type": "code",
   "execution_count": 22,
   "id": "955d5353",
   "metadata": {},
   "outputs": [
    {
     "name": "stdout",
     "output_type": "stream",
     "text": [
      "This is armstrong number\n"
     ]
    }
   ],
   "source": [
    "# 5.\tScenario: A lottery system assigns special numbers where Armstrong numbers have a special significance.\n",
    "#  Write logic to check whether a given number is an Armstrong number.\n",
    "# # \n",
    "\n",
    "def Armstrong_number(Number):\n",
    "    Res=0\n",
    "    Digit=0\n",
    "    Num=Number\n",
    "    while Number>0:\n",
    "        Digit=Number%10\n",
    "        Res=Res+Digit**3\n",
    "        Number=Number//10\n",
    "    if Num==Res:\n",
    "        print(\"This is armstrong number\")\n",
    "    else:\n",
    "        print(\"this is not armstrong number \")\n",
    "    \n",
    "    \n",
    "Armstrong_number(153)    \n"
   ]
  },
  {
   "cell_type": "code",
   "execution_count": 2,
   "id": "c99aca81",
   "metadata": {},
   "outputs": [
    {
     "name": "stdout",
     "output_type": "stream",
     "text": [
      "enter your taskstudy\n",
      "['study']\n"
     ]
    }
   ],
   "source": [
    "# A task management application allows users to add, remove, and view tasks in a to-do list.\n",
    "#  Write logic to implement a to-do list where users can add, remove, and view tasks.\n",
    "class task_management:\n",
    "    def add(self,To_do):\n",
    "        self.to_do=To_do\n",
    "        add_task=input(\"enter your task\")\n",
    "        To_do.append( add_task)         \n",
    "    def view_tasks(self):\n",
    "        print(self.to_do)\n",
    "    def remove(self):\n",
    "        Remove_task=input(\"Enter your taks to remove\")\n",
    "        self.to_do.remove(Remove_task)      \n",
    "        \n",
    "Obj=task_management()\n",
    "Obj.add([])\n",
    "Obj.view_tasks()"
   ]
  },
  {
   "cell_type": "code",
   "execution_count": null,
   "id": "5ec16e5c",
   "metadata": {},
   "outputs": [],
   "source": []
  },
  {
   "cell_type": "code",
   "execution_count": null,
   "id": "c2029064",
   "metadata": {},
   "outputs": [],
   "source": [
    "# 7.\tScenario: A weather application requires a function to convert temperature between Celsius and Fahrenheit.\n",
    "#  Write logic to convert a given temperature from Celsius to Fahrenheit and vice versa\n",
    "# #"
   ]
  },
  {
   "cell_type": "code",
   "execution_count": 9,
   "id": "9c04fcad",
   "metadata": {},
   "outputs": [
    {
     "name": "stdout",
     "output_type": "stream",
     "text": [
      "characters in a given string are unique\n"
     ]
    }
   ],
   "source": [
    "# 8.\tScenario: A security system needs to verify whether a given string has all unique characters.\n",
    "#  Write logic to check whether all characters in a given string are unique.\n",
    "\n",
    "def all_characters(string,check_str):\n",
    "    dic={}\n",
    "    count=0\n",
    "    for i in string:\n",
    "        if i in dic:\n",
    "            dic[i]+=1\n",
    "        else:\n",
    "            dic[i]=0\n",
    "    for j in check_str:\n",
    "        if j in dic:\n",
    "            dic[j]+=1\n",
    "            count+=1\n",
    "        else:\n",
    "            dic[j]=0\n",
    "#     print(dic)  \n",
    "    \n",
    "    if len(check_str)==len(string):\n",
    "        print(\"characters in a given string are unique\")\n",
    "    else:\n",
    "         print(\"the given string are not unique\")\n",
    "    \n",
    "    \n",
    "all_characters('!@#$%^&*',['!','@','#',\"$\",'%','^','&',\"*\"])    \n"
   ]
  },
  {
   "cell_type": "code",
   "execution_count": 37,
   "id": "dd7b32f9",
   "metadata": {},
   "outputs": [
    {
     "data": {
      "text/plain": [
       "'developer'"
      ]
     },
     "execution_count": 37,
     "metadata": {},
     "output_type": "execute_result"
    }
   ],
   "source": [
    "# 9.\tScenario: A text analyzer tool identifies the longest word in a given sentence for readability analysis.\n",
    "#  Write logic to find the longest word in a given sentence.\n",
    "# #\n",
    "\n",
    "def findlongestword(string):\n",
    "    dic={}\n",
    "    count=0\n",
    "    for i in string.split():\n",
    "        for j in i:\n",
    "            if i in dic:\n",
    "                dic[i]+=1\n",
    "            else:\n",
    "                dic[i]=1          \n",
    "    for key,value in dic.items():\n",
    "        if max(dic.values())==value:\n",
    "            return key\n",
    "       \n",
    "        \n",
    "                \n",
    "                \n",
    "           \n",
    "    \n",
    "findlongestword('Durai is a python developer')    "
   ]
  },
  {
   "cell_type": "code",
   "execution_count": 43,
   "id": "4e6b8eda",
   "metadata": {},
   "outputs": [],
   "source": [
    "\n",
    "# 10.\tScenario: A password manager generates secure passwords based on user-defined length and complexity.\n",
    "#  Write logic to generate a random password of a given length, containing uppercase, lowercase, digits, and special characters.\n",
    "\n",
    "import random\n",
    "def generate_pass(Number):\n",
    "    pass\n",
    "    \n",
    "generate_pass(5)    "
   ]
  },
  {
   "cell_type": "code",
   "execution_count": 44,
   "id": "3ca24cad",
   "metadata": {},
   "outputs": [],
   "source": [
    "# import random\n",
    "# random.randrange('durai')"
   ]
  },
  {
   "cell_type": "code",
   "execution_count": null,
   "id": "2cc87e55",
   "metadata": {},
   "outputs": [],
   "source": []
  },
  {
   "cell_type": "code",
   "execution_count": null,
   "id": "0808f2ed",
   "metadata": {},
   "outputs": [],
   "source": []
  }
 ],
 "metadata": {
  "kernelspec": {
   "display_name": "Python 3 (ipykernel)",
   "language": "python",
   "name": "python3"
  },
  "language_info": {
   "codemirror_mode": {
    "name": "ipython",
    "version": 3
   },
   "file_extension": ".py",
   "mimetype": "text/x-python",
   "name": "python",
   "nbconvert_exporter": "python",
   "pygments_lexer": "ipython3",
   "version": "3.9.12"
  }
 },
 "nbformat": 4,
 "nbformat_minor": 5
}
