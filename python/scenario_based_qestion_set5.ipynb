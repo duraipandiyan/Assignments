{
 "cells": [
  {
   "cell_type": "code",
   "execution_count": null,
   "id": "33dda4a5",
   "metadata": {},
   "outputs": [],
   "source": [
    "# A program needs to determine the largest prime factor of a given number for mathematical computations.\n",
    "#  Write logic to find the largest prime factor of a given number\n"
   ]
  },
  {
   "cell_type": "code",
   "execution_count": 5,
   "id": "e04300ea",
   "metadata": {},
   "outputs": [
    {
     "data": {
      "text/plain": [
       "6"
      ]
     },
     "execution_count": 5,
     "metadata": {},
     "output_type": "execute_result"
    }
   ],
   "source": [
    "# 2.\tScenario: A system needs to convert a Roman numeral string into its integer equivalent for numerical processing.\n",
    "#     Write logic to convert a given Roman numeral string into an integer\n",
    "\n",
    "def roman_string(String):\n",
    "    dic={\n",
    "        \"M\":1000,\n",
    "        'I':1,\n",
    "        'C':100,\n",
    "        'X':10,\n",
    "        'V':5,\n",
    "        'D':500,\n",
    "    }\n",
    "    Res=0\n",
    "    for i in range(len(String)-1):\n",
    "        if dic[String[i]]<dic[String[i+1]]:\n",
    "            Res-=dic[String[i]]\n",
    "        else:\n",
    "            Res+=dic[String[i]]\n",
    "    Res+=dic[String[-1]]\n",
    "    return  Res       \n",
    "        \n",
    "roman_string(\"VI\")    "
   ]
  },
  {
   "cell_type": "code",
   "execution_count": null,
   "id": "a833be26",
   "metadata": {},
   "outputs": [],
   "source": [
    "# 3.\tScenario: A text-processing application analyzes a list of words to find the longest common prefix.\n",
    "#  Write logic to find the longest common prefix among a list of strings.\n",
    "# Example 1:\n",
    "\n",
    "# Input: strs = [\"flower\",\"flow\",\"flight\"]\n",
    "# Output: \"fl\"\n",
    "# Example 2:\n",
    "\n",
    "# Input: strs = [\"dog\",\"racecar\",\"car\"]\n",
    "# Output: \"\"\n",
    "# Explanation: There is no common prefix among the input strings.\n",
    "\n",
    "\n",
    "\n",
    "\n"
   ]
  },
  {
   "cell_type": "code",
   "execution_count": 14,
   "id": "84ceef49",
   "metadata": {},
   "outputs": [
    {
     "data": {
      "text/plain": [
       "('Division:', 3)"
      ]
     },
     "execution_count": 14,
     "metadata": {},
     "output_type": "execute_result"
    }
   ],
   "source": [
    "# 4.\tScenario: A calculator program takes two numbers and an operator to perform a mathematical operation.\n",
    "#  Write logic to take two numbers and an operator (+, -, *, /) and perform the corresponding operation.\n",
    "class Arithmatic:\n",
    "    def __init__(self,Num1,Num2):\n",
    "        self.Num1=Num1\n",
    "        self.Num2=Num2\n",
    "    def Addition(self):\n",
    "        return \"Addition :\",self.Num1+self.Num2\n",
    "        \n",
    "    def Sub(self):\n",
    "        return \"Subtraction :\",self.Num1-self.Num2\n",
    "    def Mul(self):\n",
    "         return \"Multiplication :\",self.Num1*self.Num2\n",
    "    def Division(self):\n",
    "         return \"Division:\",self.Num1//self.Num2    \n",
    "        \n",
    "Obj=Arithmatic(10,3) \n",
    "Obj.Addition()\n",
    "Obj.Sub()\n",
    "Obj.Mul()\n",
    "Obj.Division()\n",
    "\n"
   ]
  },
  {
   "cell_type": "code",
   "execution_count": 22,
   "id": "955d5353",
   "metadata": {},
   "outputs": [
    {
     "name": "stdout",
     "output_type": "stream",
     "text": [
      "This is armstrong number\n"
     ]
    }
   ],
   "source": [
    "# 5.\tScenario: A lottery system assigns special numbers where Armstrong numbers have a special significance.\n",
    "#  Write logic to check whether a given number is an Armstrong number.\n",
    "# # \n",
    "\n",
    "def Armstrong_number(Number):\n",
    "    Res=0\n",
    "    Digit=0\n",
    "    Num=Number\n",
    "    while Number>0:\n",
    "        Digit=Number%10\n",
    "        Res=Res+Digit**3\n",
    "        Number=Number//10\n",
    "    if Num==Res:\n",
    "        print(\"This is armstrong number\")\n",
    "    else:\n",
    "        print(\"this is not armstrong number \")\n",
    "    \n",
    "    \n",
    "Armstrong_number(153)    \n"
   ]
  },
  {
   "cell_type": "code",
   "execution_count": 1,
   "id": "c99aca81",
   "metadata": {},
   "outputs": [
    {
     "name": "stdout",
     "output_type": "stream",
     "text": [
      "Enter your operation add, View_tasks, remove or quitadd\n",
      "Please enter how may taks you would like to enter: \n",
      "3\n",
      "\n",
      "What taks you would like to add?.. \n",
      "play\n",
      "\n",
      "What taks you would like to add?.. \n",
      "game\n",
      "\n",
      "What taks you would like to add?.. \n",
      "write\n",
      "\n",
      "Your task has been succesfully add \n",
      "\n",
      "Enter your operation add, View_tasks, remove or quitview\n",
      "View your Tasks\n",
      "1 . play\n",
      "2 . game\n",
      "3 . write\n",
      "Enter your operation add, View_tasks, remove or quitremove\n",
      "What taks would you like to remove?..play\n",
      "The your task has been successfully remove\n",
      "Enter your operation add, View_tasks, remove or quitview\n",
      "View your Tasks\n",
      "1 . game\n",
      "2 . write\n",
      "Enter your operation add, View_tasks, remove or quitquit\n"
     ]
    }
   ],
   "source": [
    "# A task management application allows users to add, remove, and view tasks in a to-do list.\n",
    "#  Write logic to implement a to-do list where users can add, remove, and view tasks.\n",
    "class task_management:\n",
    "    def add(self):\n",
    "        self.Tasks=[]\n",
    "        Task_count=int(input(\"Please enter how may taks you would like to enter: \\n\"))\n",
    "        print('')\n",
    "        for num in range(1,Task_count+1):\n",
    "            add_task=input(\"What taks you would like to add?.. \\n\")\n",
    "            print('')\n",
    "            self.Tasks.append(add_task)\n",
    "        print(\"Your task has been succesfully add \\n\")\n",
    "        \n",
    "    def view_tasks(self):\n",
    "        print(\"View your Tasks\")\n",
    "        for sn,task in enumerate(self.Tasks,1):\n",
    "            print(sn,'.',task)\n",
    "       \n",
    "        \n",
    "    def remove(self):\n",
    "         Remove_Task=input(\"What taks would you like to remove?..\")\n",
    "         self.Tasks.remove(Remove_Task)\n",
    "         print('The your task has been successfully remove')\n",
    "                 \n",
    "Obj=task_management()\n",
    "\n",
    "while True:\n",
    "    Operation=input('Enter your operation add, View_tasks, remove or quit')\n",
    "    if Operation=='add':\n",
    "        Obj.add()\n",
    "    elif Operation=='view':\n",
    "        Obj.view_tasks()\n",
    "    elif Operation=='remove':\n",
    "        Obj.remove()\n",
    "    elif Operation=='quit':\n",
    "        break\n",
    "    else:\n",
    "        print(\"You have enter invalid option\")"
   ]
  },
  {
   "cell_type": "code",
   "execution_count": null,
   "id": "5ec16e5c",
   "metadata": {},
   "outputs": [],
   "source": []
  },
  {
   "cell_type": "code",
   "execution_count": null,
   "id": "c2029064",
   "metadata": {},
   "outputs": [],
   "source": [
    "# 7.\tScenario: A weather application requires a function to convert temperature between Celsius and Fahrenheit.\n",
    "#  Write logic to convert a given temperature from Celsius to Fahrenheit and vice versa\n",
    "# #"
   ]
  },
  {
   "cell_type": "code",
   "execution_count": 9,
   "id": "9c04fcad",
   "metadata": {},
   "outputs": [
    {
     "name": "stdout",
     "output_type": "stream",
     "text": [
      "characters in a given string are unique\n"
     ]
    }
   ],
   "source": [
    "# 8.\tScenario: A security system needs to verify whether a given string has all unique characters.\n",
    "#  Write logic to check whether all characters in a given string are unique.\n",
    "\n",
    "def all_characters(string,check_str):\n",
    "    dic={}\n",
    "    count=0\n",
    "    for i in string:\n",
    "        if i in dic:\n",
    "            dic[i]+=1\n",
    "        else:\n",
    "            dic[i]=0\n",
    "    for j in check_str:\n",
    "        if j in dic:\n",
    "            dic[j]+=1\n",
    "            count+=1\n",
    "        else:\n",
    "            dic[j]=0\n",
    "#     print(dic)  \n",
    "    \n",
    "    if len(check_str)==len(string):\n",
    "        print(\"characters in a given string are unique\")\n",
    "    else:\n",
    "         print(\"the given string are not unique\")\n",
    "    \n",
    "    \n",
    "all_characters('!@#$%^&*',['!','@','#',\"$\",'%','^','&',\"*\"])    \n"
   ]
  },
  {
   "cell_type": "code",
   "execution_count": 37,
   "id": "dd7b32f9",
   "metadata": {},
   "outputs": [
    {
     "data": {
      "text/plain": [
       "'developer'"
      ]
     },
     "execution_count": 37,
     "metadata": {},
     "output_type": "execute_result"
    }
   ],
   "source": [
    "# 9.\tScenario: A text analyzer tool identifies the longest word in a given sentence for readability analysis.\n",
    "#  Write logic to find the longest word in a given sentence.\n",
    "# #\n",
    "\n",
    "def findlongestword(string):\n",
    "    dic={}\n",
    "    count=0\n",
    "    for i in string.split():\n",
    "        for j in i:\n",
    "            if i in dic:\n",
    "                dic[i]+=1\n",
    "            else:\n",
    "                dic[i]=1          \n",
    "    for key,value in dic.items():\n",
    "        if max(dic.values())==value:\n",
    "            return key\n",
    "       \n",
    "        \n",
    "                \n",
    "                \n",
    "           \n",
    "    \n",
    "findlongestword('Durai is a python developer')    "
   ]
  },
  {
   "cell_type": "code",
   "execution_count": 43,
   "id": "4e6b8eda",
   "metadata": {},
   "outputs": [],
   "source": [
    "\n",
    "# 10.\tScenario: A password manager generates secure passwords based on user-defined length and complexity.\n",
    "#  Write logic to generate a random password of a given length, containing uppercase, lowercase, digits, and special characters.\n",
    "\n",
    "import random\n",
    "def generate_pass(Number):\n",
    "    pass\n",
    "    \n",
    "generate_pass(5)    "
   ]
  },
  {
   "cell_type": "code",
   "execution_count": 44,
   "id": "3ca24cad",
   "metadata": {},
   "outputs": [],
   "source": [
    "# import random\n",
    "# random.randrange('durai')"
   ]
  },
  {
   "cell_type": "code",
   "execution_count": null,
   "id": "2cc87e55",
   "metadata": {},
   "outputs": [],
   "source": []
  },
  {
   "cell_type": "code",
   "execution_count": null,
   "id": "0808f2ed",
   "metadata": {},
   "outputs": [],
   "source": []
  }
 ],
 "metadata": {
  "kernelspec": {
   "display_name": "Python 3 (ipykernel)",
   "language": "python",
   "name": "python3"
  },
  "language_info": {
   "codemirror_mode": {
    "name": "ipython",
    "version": 3
   },
   "file_extension": ".py",
   "mimetype": "text/x-python",
   "name": "python",
   "nbconvert_exporter": "python",
   "pygments_lexer": "ipython3",
   "version": "3.9.12"
  }
 },
 "nbformat": 4,
 "nbformat_minor": 5
}
