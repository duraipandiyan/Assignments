{
 "cells": [
  {
   "cell_type": "code",
   "execution_count": 5,
   "id": "ff5980c9",
   "metadata": {},
   "outputs": [
    {
     "name": "stdout",
     "output_type": "stream",
     "text": [
      "Enter the your password 56789\n",
      "Your user password is wrong please enter valid password: 56789\n",
      "Your user password is wrong please enter valid password: 7894\n",
      "Your user password is wrong please enter valid password: 76879\n",
      "You have entered valid password \n"
     ]
    }
   ],
   "source": [
    "# nario: A user is required to enter a valid number in a form, but users sometimes input invalid data.\n",
    "#  Write logic to repeatedly prompt the user until they enter a valid integer.wa\n",
    "def valid_num(Password):\n",
    "    User_password=int(input(\"Enter the your password \"))\n",
    "    if User_password!=Password:\n",
    "        while User_password!=Password:\n",
    "            User_password=int(input(\"Your user password is wrong please enter valid password: \"))\n",
    "            if User_password==Password:\n",
    "                print(\"You have entered valid password \")\n",
    "    else:\n",
    "        print(\"You have entered valid password\")\n",
    "            \n",
    "            \n",
    "    \n",
    "    \n",
    "    \n",
    "valid_num(76879)    \n"
   ]
  },
  {
   "cell_type": "code",
   "execution_count": 15,
   "id": "923c378e",
   "metadata": {},
   "outputs": [
    {
     "data": {
      "text/plain": [
       "4"
      ]
     },
     "execution_count": 15,
     "metadata": {},
     "output_type": "execute_result"
    }
   ],
   "source": [
    "# 2.\tScenario: A data analysis tool processes a list of numbers and needs to identify the most frequently occurring value.\n",
    "def  frequently_occurring_value(List):\n",
    "    dc={}\n",
    "    for i in List:\n",
    "        if i in dc:\n",
    "            dc[i]+=1\n",
    "        else:\n",
    "            dc[i]=1\n",
    "    for k,v in dc.items():\n",
    "        if v==max(dc.values()):\n",
    "            return k\n",
    "frequently_occurring_value([1,3,4,4,4,4])   "
   ]
  },
  {
   "cell_type": "code",
   "execution_count": 21,
   "id": "a943ba59",
   "metadata": {},
   "outputs": [
    {
     "data": {
      "text/plain": [
       "('Solve', 'is Anagram')"
      ]
     },
     "execution_count": 21,
     "metadata": {},
     "output_type": "execute_result"
    }
   ],
   "source": [
    "# 3.\tScenario: A text-processing application needs to compare words and check if they are anagrams (contain the same letters in a different order).\n",
    "#  Write logic to determine whether two given strings are anagrams.\n",
    "\n",
    "def Anagram(Sentence1,Sentence2):\n",
    "    dic1={}\n",
    "    dic2={}\n",
    "    for word1 in Sentence1.lower():\n",
    "        if word1 in dic1:\n",
    "            dic1[word1]+=1\n",
    "        else:\n",
    "            dic1[word1]=1\n",
    "    for word2 in Sentence2.lower():\n",
    "        if word2 in dic2:\n",
    "            dic2[word2]+=1\n",
    "        else:\n",
    "            dic2[word2]=1\n",
    "    if sorted(dic1.keys())==sorted(dic2.keys()) :\n",
    "        return Sentence1,'is Anagram'\n",
    "    else:\n",
    "        return Sentence1, 'is not an Anagram'\n",
    "    \n",
    "     \n",
    "Anagram('Solve','Voles')"
   ]
  },
  {
   "cell_type": "code",
   "execution_count": 27,
   "id": "8dee38d3",
   "metadata": {},
   "outputs": [
    {
     "data": {
      "text/plain": [
       "('The count of the Vowels is', 3)"
      ]
     },
     "execution_count": 27,
     "metadata": {},
     "output_type": "execute_result"
    }
   ],
   "source": [
    "# 4.\tScenario: A speech analysis program needs to count the number of vowel sounds in a given input.\n",
    "def find_vowel(Sentence,Vowel):\n",
    "    dic={}\n",
    "    count=0\n",
    "    for i in Sentence:\n",
    "        if i in dic:\n",
    "            dic[i]+=1\n",
    "        else:\n",
    "            dic[i]=0\n",
    "#     print(dic)\n",
    "    for j in Vowel:\n",
    "        if j in dic:\n",
    "            dic[j]+=1\n",
    "            count+=1\n",
    "        else:\n",
    "            dic[j]=0\n",
    "    return 'The count of the Vowels is',count        \n",
    "    \n",
    "find_vowel('Durai',['a','e','i','o','u'])    "
   ]
  },
  {
   "cell_type": "code",
   "execution_count": 28,
   "id": "482d1339",
   "metadata": {},
   "outputs": [
    {
     "data": {
      "text/plain": [
       "'repoleveD nohtyP'"
      ]
     },
     "execution_count": 28,
     "metadata": {},
     "output_type": "execute_result"
    }
   ],
   "source": [
    "# A text-editing software includes a feature to reverse the order of words in a sentence for stylistic effects.\n",
    "#  Write logic to reverse the order of words in a sentence while keeping the words themselves intact.\n",
    "\n",
    "def reverse_word(Word):\n",
    "    \n",
    "    return Word[::-1]\n",
    "    \n",
    "reverse_word(\"Python Developer\")    \n",
    "\n",
    "\n",
    "\n"
   ]
  },
  {
   "cell_type": "code",
   "execution_count": 34,
   "id": "fcf62d38",
   "metadata": {},
   "outputs": [
    {
     "name": "stdout",
     "output_type": "stream",
     "text": [
      "3\n",
      "4\n"
     ]
    }
   ],
   "source": [
    "# 6.\tScenario: A missing number is detected in a sequence of values stored in a database.\n",
    "#  Write logic to find the missing number in a list containing n-1 numbers from 1 to n.\n",
    "\n",
    "def missing_num(List):\n",
    "    for i in range(List[0],List[-1]):\n",
    "        if i not in List:\n",
    "            print(i)\n",
    "        \n",
    "missing_num([1,2,5,6,7])    \n"
   ]
  },
  {
   "cell_type": "code",
   "execution_count": 2,
   "id": "9dc4b62a",
   "metadata": {},
   "outputs": [
    {
     "name": "stdout",
     "output_type": "stream",
     "text": [
      "Enter the your Amount 500\n"
     ]
    },
    {
     "data": {
      "text/plain": [
       "('Amount has been successfully credited and your current balance', 4500)"
      ]
     },
     "execution_count": 2,
     "metadata": {},
     "output_type": "execute_result"
    }
   ],
   "source": [
    "# 7.\tScenario: An ATM machine processes withdrawal requests and needs to ensure that users cannot withdraw more than their account balance.\n",
    "#  Write logic to allow a withdrawal only if the balance is sufficient.\n",
    "\n",
    "def withdrawal_requests(User_balance):\n",
    "    Amount=int(input(\"Enter the your Amount \"))\n",
    "    if Amount>User_balance:\n",
    "        return 'You do not have sufficient balance your current balance is', User_balance\n",
    "    else:\n",
    "        return 'Amount has been successfully credited and your current balance',User_balance-Amount\n",
    "    \n",
    "    \n",
    "withdrawal_requests(5000)    \n"
   ]
  },
  {
   "cell_type": "code",
   "execution_count": 5,
   "id": "b577ce91",
   "metadata": {},
   "outputs": [
    {
     "data": {
      "text/plain": [
       "'List contain duplicate'"
      ]
     },
     "execution_count": 5,
     "metadata": {},
     "output_type": "execute_result"
    }
   ],
   "source": [
    "# 8.\tScenario: A system needs to verify whether a given dataset contains duplicate entries.\n",
    "#  Write logic to check whether a given list contains duplicate values.\n",
    "\n",
    "def find_duplicates(List):\n",
    "    if len(List)>len(set(List)):\n",
    "        return \"List contain duplicate\"\n",
    "    else:\n",
    "        return \"There is no duplicate found\"\n",
    "    \n",
    "find_duplicates([5,6,8,9,10,10])    "
   ]
  },
  {
   "cell_type": "code",
   "execution_count": 9,
   "id": "e4173812",
   "metadata": {},
   "outputs": [
    {
     "data": {
      "text/plain": [
       "19"
      ]
     },
     "execution_count": 9,
     "metadata": {},
     "output_type": "execute_result"
    }
   ],
   "source": [
    "# : A digital calculator includes a feature to sum the digits of a number for verification purposes.\n",
    "#  Write logic to calculate the sum of all digits in a given integer.\n",
    "def sum_digits(Number):\n",
    "    s=0\n",
    "    digit=[i for i in str(Number)]\n",
    "    for num in digit:\n",
    "        s+=int(num)\n",
    "    return s    \n",
    "    \n",
    "sum_digits(3457)    "
   ]
  },
  {
   "cell_type": "code",
   "execution_count": 24,
   "id": "0d9b6f56",
   "metadata": {},
   "outputs": [
    {
     "data": {
      "text/plain": [
       "'This is a pangram'"
      ]
     },
     "execution_count": 24,
     "metadata": {},
     "output_type": "execute_result"
    }
   ],
   "source": [
    "# 10.\tScenario: A language-learning app wants to verify whether a given sentence is a pangram (contains every letter of the alphabet at least once).\n",
    "#  Write logic to check if a given sentence is a pangram.\n",
    "\n",
    "def pangram(Sentence,alphabets):\n",
    "    dic={}\n",
    "    count=0\n",
    "    for i in Sentence:\n",
    "        if i in dic:\n",
    "            dic[i]=0\n",
    "        else:\n",
    "            dic[i]=0\n",
    "#     print(dic)\n",
    "    for j in alphabets:\n",
    "        if j in dic:\n",
    "            dic[j]+=1\n",
    "            count+=1\n",
    "        else:\n",
    "            dic[j]=0\n",
    "    if count==26:\n",
    "        return 'This is a pangram'\n",
    "    else:\n",
    "        return 'This is not Pangram'\n",
    "pangram(\"The quick brown fox jumps over the lazy dog\",['a','b','c','d','e','f','g','h','i','j','k','l','m','n','o','p','q','r','s','t','u','v','w','x','y','z'])"
   ]
  },
  {
   "cell_type": "code",
   "execution_count": null,
   "id": "69991ffc",
   "metadata": {},
   "outputs": [],
   "source": []
  }
 ],
 "metadata": {
  "kernelspec": {
   "display_name": "Python 3 (ipykernel)",
   "language": "python",
   "name": "python3"
  },
  "language_info": {
   "codemirror_mode": {
    "name": "ipython",
    "version": 3
   },
   "file_extension": ".py",
   "mimetype": "text/x-python",
   "name": "python",
   "nbconvert_exporter": "python",
   "pygments_lexer": "ipython3",
   "version": "3.9.12"
  }
 },
 "nbformat": 4,
 "nbformat_minor": 5
}
