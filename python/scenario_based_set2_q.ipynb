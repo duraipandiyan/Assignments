{
 "cells": [
  {
   "cell_type": "code",
   "execution_count": 4,
   "id": "6c2bcdb2",
   "metadata": {},
   "outputs": [
    {
     "data": {
      "text/plain": [
       "'The Amount is negative'"
      ]
     },
     "execution_count": 4,
     "metadata": {},
     "output_type": "execute_result"
    }
   ],
   "source": [
    "# # senari based question\n",
    "# Scenario: You are developing a banking application that categorizes transactions based on the amount entered.\n",
    "#  Write logic to determine whether the amount is positive, negative, or zero.\n",
    "\n",
    "def Check_amount(Amount):\n",
    "    if Amount>0:\n",
    "        return \"The Amount is positive\"\n",
    "    elif Amount==0:\n",
    "        return 'The Amount is Zero'\n",
    "    else:\n",
    "        return 'The Amount is negative'\n",
    "    \n",
    "Check_amount(-1)\n"
   ]
  },
  {
   "cell_type": "code",
   "execution_count": 5,
   "id": "7ee519e2",
   "metadata": {},
   "outputs": [
    {
     "data": {
      "text/plain": [
       "9"
      ]
     },
     "execution_count": 5,
     "metadata": {},
     "output_type": "execute_result"
    }
   ],
   "source": [
    "# 2.\tScenario: A digital locker requires users to enter a numerical passcode. As part of a security feature, \n",
    "# the system checks the sum of the digits of the passcode.\n",
    "#  Write logic to compute the sum of the digits of a given number.\n",
    "def sum_pass(password):\n",
    "    count=0\n",
    "    for word in password:\n",
    "        count+=1\n",
    "    return count    \n",
    "sum_pass('#4durai77')    \n"
   ]
  },
  {
   "cell_type": "code",
   "execution_count": 13,
   "id": "f21da27b",
   "metadata": {},
   "outputs": [
    {
     "data": {
      "text/plain": [
       "8765"
      ]
     },
     "execution_count": 13,
     "metadata": {},
     "output_type": "execute_result"
    }
   ],
   "source": [
    "# 3.\tScenario: A mobile payment app uses a simple checksum validation where reversing a transaction ID helps detect fraud.\n",
    "#  Write logic to take a number and return its reverse.\n",
    "\n",
    "def reverse_num(Number):\n",
    "    digit=0\n",
    "    res=0\n",
    "    while Number>0:\n",
    "        digit=Number%10\n",
    "        res=res*10+digit\n",
    "        Number=Number//10\n",
    "    return res    \n",
    "reverse_num(5678)    \n"
   ]
  },
  {
   "cell_type": "code",
   "execution_count": 27,
   "id": "ba4817e3",
   "metadata": {},
   "outputs": [
    {
     "data": {
      "text/plain": [
       "(10, 'this is not a prime number')"
      ]
     },
     "execution_count": 27,
     "metadata": {},
     "output_type": "execute_result"
    }
   ],
   "source": [
    "# 4.\tScenario: In a secure login system, certain features are enabled only for users with prime-numbered user IDs.\n",
    "#  Write logic to check if a given number is prime.\n",
    "\n",
    "# # \n",
    "\n",
    "def prime_num(Number):\n",
    "    count=0\n",
    "    for i in range(2,Number+1):\n",
    "        if Number%i==0:\n",
    "            count+=1\n",
    "    if count==1:\n",
    "        return i,'prime number'\n",
    "    else:\n",
    "        return i,'this is not a prime number'\n",
    "prime_num(10)\n",
    "\n"
   ]
  },
  {
   "cell_type": "code",
   "execution_count": 6,
   "id": "89f4b2ef",
   "metadata": {},
   "outputs": [
    {
     "data": {
      "text/plain": [
       "120"
      ]
     },
     "execution_count": 6,
     "metadata": {},
     "output_type": "execute_result"
    }
   ],
   "source": [
    "# 5.\tScenario: A scientist is working on permutations and needs to calculate the factorial of numbers frequently.\n",
    "#  Write logic to find the factorial of a given number using recursion.\n",
    "\n",
    "def fact(n):\n",
    "    if n==0:\n",
    "        return 1\n",
    "    return n*fact(n-1)\n",
    "fact(5)    \n"
   ]
  },
  {
   "cell_type": "code",
   "execution_count": 40,
   "id": "5352637d",
   "metadata": {},
   "outputs": [
    {
     "data": {
      "text/plain": [
       "(153, 'This is amstrong number')"
      ]
     },
     "execution_count": 40,
     "metadata": {},
     "output_type": "execute_result"
    }
   ],
   "source": [
    "# 6.\tScenario: A unique lottery system assigns ticket numbers where only Armstrong numbers win the jackpot.\n",
    "#  Write logic to check whether a given number is an Armstrong number.\n",
    "def Armstrong_number(Number):\n",
    "    Result=0\n",
    "    digit=0\n",
    "    Num=Number\n",
    "    while Number>0:\n",
    "        digit=Number%10\n",
    "        Result=Result+digit**3\n",
    "        Number=Number//10\n",
    "    if Result==Num:\n",
    "        return Num,'This is amstrong number'\n",
    "    else:\n",
    "        return Num,'This is not an amstrong'\n",
    "Armstrong_number(153)    "
   ]
  },
  {
   "cell_type": "code",
   "execution_count": 56,
   "id": "c9ef3ad9",
   "metadata": {},
   "outputs": [
    {
     "data": {
      "text/plain": [
       "'@,u,r,a,i,D'"
      ]
     },
     "execution_count": 56,
     "metadata": {},
     "output_type": "execute_result"
    }
   ],
   "source": [
    "# 7.\tScenario: A password manager needs to strengthen weak passwords by swapping the first and last characters of user-generated passwords.\n",
    "#  Write logic to perform this operation on a given string.\n",
    "\n",
    "def password(Pass):\n",
    "    List_convert=list(Pass)\n",
    "    List_convert[0], List_convert[-1]= List_convert[-1], List_convert[0]\n",
    "    return  \",\".join(List_convert)\n",
    "    \n",
    "password('Durai@')    \n"
   ]
  },
  {
   "cell_type": "code",
   "execution_count": 81,
   "id": "653153fd",
   "metadata": {},
   "outputs": [
    {
     "data": {
      "text/plain": [
       "'001011'"
      ]
     },
     "execution_count": 81,
     "metadata": {},
     "output_type": "execute_result"
    }
   ],
   "source": [
    "# 8.\tScenario: A low-level networking application requires decimal numbers to be converted into binary format before transmission.\n",
    "#  Write logic to convert a given decimal number into its binary equivalent.\n",
    "\n",
    "def convert_dec(decimal_number):\n",
    "    List=[]\n",
    "    while decimal_number>0:\n",
    "        List.append(str(decimal_number%2))\n",
    "        decimal_number=decimal_number//2\n",
    "    return \"\".join(List) \n",
    "    \n",
    "convert_dec(52)    "
   ]
  },
  {
   "cell_type": "code",
   "execution_count": 61,
   "id": "c214214a",
   "metadata": {
    "scrolled": true
   },
   "outputs": [
    {
     "data": {
      "text/plain": [
       "'developer'"
      ]
     },
     "execution_count": 61,
     "metadata": {},
     "output_type": "execute_result"
    }
   ],
   "source": [
    "# 9.\tScenario: A text-processing tool helps summarize articles by identifying the most significant words.\n",
    "#  Write logic to find the longest word in a sentence.\n",
    "\n",
    "def find_string(sentence):\n",
    "    dc={}\n",
    "    List=sentence.split()\n",
    "    for word in List:\n",
    "        for w in word:\n",
    "            if word in dc:\n",
    "                dc[word]+=1\n",
    "            else:\n",
    "                dc[word]=1\n",
    "                \n",
    "    for k,v in zip(dc.keys(),dc.values()):\n",
    "        if v==sorted(dc.values())[-1]:\n",
    "            return k\n",
    "    \n",
    "find_string('Durai is a python developer')    \n"
   ]
  },
  {
   "cell_type": "code",
   "execution_count": 43,
   "id": "8be47b48",
   "metadata": {},
   "outputs": [
    {
     "name": "stdout",
     "output_type": "stream",
     "text": [
      "Debit crad is anagram\n"
     ]
    }
   ],
   "source": [
    "# 10.\tScenario: A plagiarism detection tool compares words from different documents and checks if they are anagrams (same characters but different order).\n",
    "#  Write logic to check whether two given strings are anagrams.\n",
    "def find_anagram(Sentence,Anagram):\n",
    "    dc1={}\n",
    "    dc2={}\n",
    "    for word in Sentence.lower():\n",
    "        if word in dc1:\n",
    "            dc1[word]+=1\n",
    "        else:\n",
    "            dc1[word]=1\n",
    "    for i in Anagram.lower():\n",
    "        if i in dc2:\n",
    "            dc2[i]+=1\n",
    "        else:\n",
    "            dc2[i]=1\n",
    "    if sorted(dc2.keys()) == sorted(dc1.keys()):\n",
    "        print(Sentence,\"is anagram\")\n",
    "    else:\n",
    "        print(Sentence,\"is not anagram\")\n",
    "    \n",
    "        \n",
    "find_anagram(\"Debit crad\",\"Bad credit\")       \n",
    "\n"
   ]
  },
  {
   "cell_type": "code",
   "execution_count": null,
   "id": "bad620c3",
   "metadata": {},
   "outputs": [],
   "source": [
    "\n"
   ]
  },
  {
   "cell_type": "code",
   "execution_count": null,
   "id": "e75a6d7d",
   "metadata": {},
   "outputs": [],
   "source": []
  },
  {
   "cell_type": "code",
   "execution_count": null,
   "id": "e8c0a2bb",
   "metadata": {},
   "outputs": [],
   "source": []
  }
 ],
 "metadata": {
  "kernelspec": {
   "display_name": "Python 3 (ipykernel)",
   "language": "python",
   "name": "python3"
  },
  "language_info": {
   "codemirror_mode": {
    "name": "ipython",
    "version": 3
   },
   "file_extension": ".py",
   "mimetype": "text/x-python",
   "name": "python",
   "nbconvert_exporter": "python",
   "pygments_lexer": "ipython3",
   "version": "3.9.12"
  }
 },
 "nbformat": 4,
 "nbformat_minor": 5
}
