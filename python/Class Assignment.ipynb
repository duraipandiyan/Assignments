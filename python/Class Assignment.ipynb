{
 "cells": [
  {
   "cell_type": "code",
   "execution_count": 3,
   "id": "62396248",
   "metadata": {},
   "outputs": [
    {
     "name": "stdout",
     "output_type": "stream",
     "text": [
      "Sub-fields in AI are\n",
      "\n",
      "1 . Machine Learning\n",
      "2 . Neural Networks\n",
      "3 . Vision\n",
      "4 . Robotics\n",
      "5 . Speech Processing\n",
      "6 . Natural Language Processing\n"
     ]
    }
   ],
   "source": [
    "#  Class assignment \n",
    "\n",
    "# Create a class and function, and list out the items in the list\n",
    "class SubfieldsInAI:\n",
    "    def Subfields(self,fields):\n",
    "        print(\"Sub-fields in AI are\")\n",
    "        print('')\n",
    "        count=0\n",
    "        for i in fields:\n",
    "            count+=1\n",
    "            print(count,\".\",i)\n",
    "Obj=SubfieldsInAI()            \n",
    "Obj.Subfields([\"Machine Learning\",\"Neural Networks\",\"Vision\",\"Robotics\",\"Speech Processing\",\"Natural Language Processing\"])"
   ]
  },
  {
   "cell_type": "code",
   "execution_count": 4,
   "id": "b8c8ead1",
   "metadata": {},
   "outputs": [
    {
     "data": {
      "text/plain": [
       "(5, ' is odd number')"
      ]
     },
     "execution_count": 4,
     "metadata": {},
     "output_type": "execute_result"
    }
   ],
   "source": [
    "# Create a function that checks whether the given number is Odd or Even\n",
    "class OddEven:\n",
    "    def OddEven(self,num):\n",
    "        if num%2!=0:\n",
    "            return num,\" is odd number\"\n",
    "        else:\n",
    "            return num,\" is even number\"\n",
    "    \n",
    "Obj=OddEven()\n",
    "Obj.OddEven(5)"
   ]
  },
  {
   "cell_type": "code",
   "execution_count": 10,
   "id": "4ee0da7c",
   "metadata": {},
   "outputs": [
    {
     "data": {
      "text/plain": [
       "'Male is not eligible for marry but female eligible for marry'"
      ]
     },
     "execution_count": 10,
     "metadata": {},
     "output_type": "execute_result"
    }
   ],
   "source": [
    "class ElegiblityForMarriage:\n",
    "    def eligibility(self,male_age,female_age):\n",
    "        if male_age<21 and female_age<18:\n",
    "            return \"Both are not eligible for marry\"\n",
    "        elif male_age>=21 and female_age<18:\n",
    "            return \"Male eligible for marry but female not eligible for marry\"\n",
    "        elif male_age<21 and female_age>=18:\n",
    "            return \"Male is not eligible for marry but female eligible for marry\"\n",
    "        else:\n",
    "            return \"Both are eligible for marry\"\n",
    "        \n",
    "        \n",
    "Obj=ElegiblityForMarriage()\n",
    "Obj.eligibility(20,18)"
   ]
  },
  {
   "cell_type": "code",
   "execution_count": 15,
   "id": "0350d13c",
   "metadata": {},
   "outputs": [
    {
     "data": {
      "text/plain": [
       "93.60000000000001"
      ]
     },
     "execution_count": 15,
     "metadata": {},
     "output_type": "execute_result"
    }
   ],
   "source": [
    "# FindPercent.percentage()\n",
    "class FindPercent:\n",
    "    def percentage(self,English,Tamil,Maths,science, social):\n",
    "        Total=English+Tamil+Maths+science+social\n",
    "        return Total/500*100\n",
    "\n",
    "Obj=FindPercent()\n",
    "Obj.percentage(98,87,95,95,93)"
   ]
  },
  {
   "cell_type": "code",
   "execution_count": 16,
   "id": "2365d56a",
   "metadata": {},
   "outputs": [
    {
     "data": {
      "text/plain": [
       "544.0"
      ]
     },
     "execution_count": 16,
     "metadata": {},
     "output_type": "execute_result"
    }
   ],
   "source": [
    "#print area and perimeter of triangle using class and functions\n",
    "class triangle:\n",
    "    def triangle(self,Height,Breadth):\n",
    "        Area_formula=(Height*Breadth)/2\n",
    "        return Area_formula\n",
    "\n",
    "obj=triangle()\n",
    "obj.triangle(32,34)"
   ]
  },
  {
   "cell_type": "code",
   "execution_count": 17,
   "id": "c17c0807",
   "metadata": {},
   "outputs": [
    {
     "data": {
      "text/plain": [
       "10"
      ]
     },
     "execution_count": 17,
     "metadata": {},
     "output_type": "execute_result"
    }
   ],
   "source": [
    "class perimeter:\n",
    "    def perimeter(self,Height1, Height2,Breadth):\n",
    "        Perimeter_formula=Height1+Height2+Breadth\n",
    "        return  Perimeter_formula\n",
    "obj=perimeter()\n",
    "obj.perimeter(2,4,4)"
   ]
  },
  {
   "cell_type": "code",
   "execution_count": null,
   "id": "4ec72430",
   "metadata": {},
   "outputs": [],
   "source": []
  }
 ],
 "metadata": {
  "kernelspec": {
   "display_name": "Python 3 (ipykernel)",
   "language": "python",
   "name": "python3"
  },
  "language_info": {
   "codemirror_mode": {
    "name": "ipython",
    "version": 3
   },
   "file_extension": ".py",
   "mimetype": "text/x-python",
   "name": "python",
   "nbconvert_exporter": "python",
   "pygments_lexer": "ipython3",
   "version": "3.9.12"
  }
 },
 "nbformat": 4,
 "nbformat_minor": 5
}
