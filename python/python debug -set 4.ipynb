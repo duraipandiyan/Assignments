{
 "cells": [
  {
   "cell_type": "code",
   "execution_count": 1,
   "id": "0a1a6c00",
   "metadata": {},
   "outputs": [
    {
     "name": "stdout",
     "output_type": "stream",
     "text": [
      "You are eligible to vote\n"
     ]
    }
   ],
   "source": [
    "#1.Identify and fix the syntax error in the following code:\n",
    "\n",
    "\n",
    "# age = 18\n",
    "# if age >= 18\n",
    "#     print(\"You are eligible to vote\")\n",
    "\n",
    "# colon is missing \n",
    "\n",
    "age = 18\n",
    "if age >= 18:\n",
    "    print(\"You are eligible to vote\")"
   ]
  },
  {
   "cell_type": "code",
   "execution_count": 4,
   "id": "231d9e31",
   "metadata": {},
   "outputs": [
    {
     "name": "stdout",
     "output_type": "stream",
     "text": [
      "Hello, World!\n"
     ]
    }
   ],
   "source": [
    "#2.Question:\n",
    "# What error will occur in the following code?\n",
    "\n",
    "\n",
    "# def greet():\n",
    "#     print(\"Hello, World!\")\n",
    "\n",
    "# greet_user()\n",
    "\n",
    "#   if we did not call proper name it will through an error - name 'greet_user' is not defined\n",
    "\n",
    "\n",
    "def greet():\n",
    "    print(\"Hello, World!\")\n",
    "\n",
    "greet()"
   ]
  },
  {
   "cell_type": "code",
   "execution_count": 6,
   "id": "69d1b20b",
   "metadata": {},
   "outputs": [
    {
     "name": "stdout",
     "output_type": "stream",
     "text": [
      "My name is Alice and I am 25 years old.\n"
     ]
    }
   ],
   "source": [
    "#3.Identify the error in this code:\n",
    "\n",
    "# name = \"Alice\"\n",
    "# age = 25\n",
    "# print(\"My name is \" + name + \" and I am \" + age + \" years old.\")\n",
    "\n",
    "# can only concatenate str (not \"int\") to str -- which means we can not concate INT and STR.\n",
    "\n",
    "name = \"Alice\"\n",
    "age = '25'\n",
    "print(\"My name is \" + name + \" and I am \" + age + \" years old.\")"
   ]
  },
  {
   "cell_type": "code",
   "execution_count": 8,
   "id": "620b235e",
   "metadata": {},
   "outputs": [
    {
     "name": "stdout",
     "output_type": "stream",
     "text": [
      "5.0\n"
     ]
    }
   ],
   "source": [
    "#4.Question:\n",
    "# What will happen when you run this code?\n",
    "\n",
    "# a = 10\n",
    "# b = 0\n",
    "# result = a / b\n",
    "# print(result)\n",
    "\n",
    "\n",
    "# ZeroDivisionError: division by zero -> We can not divided by 0 with any number\n",
    "\n",
    "a = 10\n",
    "b = 0\n",
    "result = a / 2\n",
    "print(result)"
   ]
  },
  {
   "cell_type": "code",
   "execution_count": 10,
   "id": "e231ba83",
   "metadata": {},
   "outputs": [
    {
     "name": "stdout",
     "output_type": "stream",
     "text": [
      "123\n"
     ]
    }
   ],
   "source": [
    "#5.What error will occur in the following code?\n",
    "\n",
    "# num = int(\"xyz\")\n",
    "# print(num)\n",
    "\n",
    "\n",
    "# ValueError: invalid literal for int() with base 10: 'xyz' -- we can not convert str into int unless it's a number\n",
    "\n",
    "num = int(\"123\")\n",
    "print(num)"
   ]
  },
  {
   "cell_type": "code",
   "execution_count": 12,
   "id": "abbe96ae",
   "metadata": {},
   "outputs": [
    {
     "name": "stdout",
     "output_type": "stream",
     "text": [
      "chennai\n"
     ]
    }
   ],
   "source": [
    "#6.Identify the issue in this code:\n",
    "\n",
    "# data = {\"name\": \"John\", \"age\": 30}\n",
    "# print(data[\"city\"])\n",
    "\n",
    "# KeyError: 'city' --> Because there is no key defined hence it through an error\n",
    "\n",
    "\n",
    "data = {\"name\": \"John\", \"age\": 30,'city':'chennai'}\n",
    "print(data[\"city\"])"
   ]
  },
  {
   "cell_type": "code",
   "execution_count": 13,
   "id": "0034bbe6",
   "metadata": {},
   "outputs": [
    {
     "name": "stdout",
     "output_type": "stream",
     "text": [
      "1\n",
      "2\n",
      "3\n",
      "4\n"
     ]
    }
   ],
   "source": [
    "#7.What will happen when you run this code?\n",
    "# num = 1\n",
    "# while num < 5:\n",
    "#     print(num)\n",
    "\n",
    "# We should increment the num value or else it will run endless time\n",
    "\n",
    "num = 1\n",
    "while num < 5:\n",
    "    print(num)\n",
    "    num+=1"
   ]
  },
  {
   "cell_type": "code",
   "execution_count": 15,
   "id": "305e92c7",
   "metadata": {},
   "outputs": [
    {
     "name": "stdout",
     "output_type": "stream",
     "text": [
      "cherry\n"
     ]
    }
   ],
   "source": [
    "#8.What is wrong with this code?\n",
    "\n",
    "# fruits = (\"apple\", \"banana\", \"cherry\")\n",
    "# print(fruits[3])\n",
    "\n",
    "# IndexError: tuple index out of range ---> The index starts from 0 hence it consider as a 2 items 3 one is not found hence error occure\n",
    "\n",
    "fruits = (\"apple\", \"banana\", \"cherry\")\n",
    "print(fruits[2])\n"
   ]
  },
  {
   "cell_type": "code",
   "execution_count": 16,
   "id": "af5f1fb3",
   "metadata": {},
   "outputs": [
    {
     "ename": "AttributeError",
     "evalue": "'str' object has no attribute 'append'",
     "output_type": "error",
     "traceback": [
      "\u001b[1;31m---------------------------------------------------------------------------\u001b[0m",
      "\u001b[1;31mAttributeError\u001b[0m                            Traceback (most recent call last)",
      "Input \u001b[1;32mIn [16]\u001b[0m, in \u001b[0;36m<cell line: 4>\u001b[1;34m()\u001b[0m\n\u001b[0;32m      1\u001b[0m \u001b[38;5;66;03m#9.What will happen when you run this code?\u001b[39;00m\n\u001b[0;32m      3\u001b[0m text \u001b[38;5;241m=\u001b[39m \u001b[38;5;124m\"\u001b[39m\u001b[38;5;124mhello world\u001b[39m\u001b[38;5;124m\"\u001b[39m\n\u001b[1;32m----> 4\u001b[0m \u001b[43mtext\u001b[49m\u001b[38;5;241;43m.\u001b[39;49m\u001b[43mappend\u001b[49m(\u001b[38;5;124m\"\u001b[39m\u001b[38;5;124m!\u001b[39m\u001b[38;5;124m\"\u001b[39m)\n",
      "\u001b[1;31mAttributeError\u001b[0m: 'str' object has no attribute 'append'"
     ]
    }
   ],
   "source": [
    "#9.What will happen when you run this code?\n",
    "\n",
    "# text = \"hello world\"\n",
    "# text.append(\"!\")\n",
    "\n",
    "# AttributeError: 'str' object has no attribute 'append' --> We are unable to add in to string, we can add or remove list,tuple,dic..\n"
   ]
  },
  {
   "cell_type": "code",
   "execution_count": 19,
   "id": "35def35f",
   "metadata": {},
   "outputs": [
    {
     "name": "stdout",
     "output_type": "stream",
     "text": [
      "9\n"
     ]
    }
   ],
   "source": [
    "#10.What is wrong with the following code?\n",
    "\n",
    "# import randoms\n",
    "# print(randoms.randint(1, 10))\n",
    "\n",
    "# import error - incorrect name has been called\n",
    "\n",
    "\n",
    "import random\n",
    "print(random.randint(1, 10))"
   ]
  },
  {
   "cell_type": "code",
   "execution_count": null,
   "id": "42d449ac",
   "metadata": {},
   "outputs": [],
   "source": []
  },
  {
   "cell_type": "code",
   "execution_count": null,
   "id": "b2e0dad5",
   "metadata": {},
   "outputs": [],
   "source": []
  },
  {
   "cell_type": "code",
   "execution_count": null,
   "id": "d0a10d28",
   "metadata": {},
   "outputs": [],
   "source": []
  },
  {
   "cell_type": "code",
   "execution_count": null,
   "id": "eb543a96",
   "metadata": {},
   "outputs": [],
   "source": []
  },
  {
   "cell_type": "code",
   "execution_count": null,
   "id": "4f111e92",
   "metadata": {},
   "outputs": [],
   "source": []
  },
  {
   "cell_type": "code",
   "execution_count": null,
   "id": "fc14d2f6",
   "metadata": {},
   "outputs": [],
   "source": []
  },
  {
   "cell_type": "code",
   "execution_count": null,
   "id": "82f5edc2",
   "metadata": {},
   "outputs": [],
   "source": []
  },
  {
   "cell_type": "code",
   "execution_count": null,
   "id": "d10bb741",
   "metadata": {},
   "outputs": [],
   "source": []
  },
  {
   "cell_type": "code",
   "execution_count": null,
   "id": "42aba435",
   "metadata": {},
   "outputs": [],
   "source": []
  },
  {
   "cell_type": "code",
   "execution_count": null,
   "id": "c533d4e5",
   "metadata": {},
   "outputs": [],
   "source": []
  },
  {
   "cell_type": "code",
   "execution_count": null,
   "id": "18dcc04b",
   "metadata": {},
   "outputs": [],
   "source": []
  },
  {
   "cell_type": "code",
   "execution_count": null,
   "id": "adcc7a2d",
   "metadata": {},
   "outputs": [],
   "source": []
  },
  {
   "cell_type": "code",
   "execution_count": null,
   "id": "2136cdeb",
   "metadata": {},
   "outputs": [],
   "source": []
  },
  {
   "cell_type": "code",
   "execution_count": null,
   "id": "7808f6ca",
   "metadata": {},
   "outputs": [],
   "source": []
  },
  {
   "cell_type": "code",
   "execution_count": null,
   "id": "231197e7",
   "metadata": {},
   "outputs": [],
   "source": []
  },
  {
   "cell_type": "code",
   "execution_count": null,
   "id": "dfdb3a81",
   "metadata": {},
   "outputs": [],
   "source": []
  },
  {
   "cell_type": "code",
   "execution_count": null,
   "id": "dabc1587",
   "metadata": {},
   "outputs": [],
   "source": []
  },
  {
   "cell_type": "code",
   "execution_count": null,
   "id": "b2a51666",
   "metadata": {},
   "outputs": [],
   "source": []
  },
  {
   "cell_type": "code",
   "execution_count": null,
   "id": "0fcf2650",
   "metadata": {},
   "outputs": [],
   "source": []
  },
  {
   "cell_type": "code",
   "execution_count": null,
   "id": "4270d2a7",
   "metadata": {},
   "outputs": [],
   "source": []
  },
  {
   "cell_type": "code",
   "execution_count": null,
   "id": "b71c4abd",
   "metadata": {},
   "outputs": [],
   "source": []
  },
  {
   "cell_type": "code",
   "execution_count": null,
   "id": "f2de7bd0",
   "metadata": {},
   "outputs": [],
   "source": []
  }
 ],
 "metadata": {
  "kernelspec": {
   "display_name": "Python 3 (ipykernel)",
   "language": "python",
   "name": "python3"
  },
  "language_info": {
   "codemirror_mode": {
    "name": "ipython",
    "version": 3
   },
   "file_extension": ".py",
   "mimetype": "text/x-python",
   "name": "python",
   "nbconvert_exporter": "python",
   "pygments_lexer": "ipython3",
   "version": "3.9.12"
  }
 },
 "nbformat": 4,
 "nbformat_minor": 5
}
