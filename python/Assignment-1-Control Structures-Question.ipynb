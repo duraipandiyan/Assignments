{
 "cells": [
  {
   "cell_type": "code",
   "execution_count": 1,
   "id": "1ccc0b01",
   "metadata": {},
   "outputs": [
    {
     "name": "stdout",
     "output_type": "stream",
     "text": [
      "Welcome to Assignment-1\n"
     ]
    }
   ],
   "source": [
    "print('Welcome to Assignment-1')"
   ]
  },
  {
   "cell_type": "code",
   "execution_count": 11,
   "id": "c2d5d693",
   "metadata": {},
   "outputs": [
    {
     "name": "stdout",
     "output_type": "stream",
     "text": [
      "Addition:  40\n"
     ]
    }
   ],
   "source": [
    "Num1= 10\n",
    "Num2= 30\n",
    "print(\"Addition: \",Num1+Num2)"
   ]
  },
  {
   "cell_type": "code",
   "execution_count": null,
   "id": "66a64da4",
   "metadata": {},
   "outputs": [],
   "source": []
  },
  {
   "cell_type": "code",
   "execution_count": 15,
   "id": "ccc007fe",
   "metadata": {},
   "outputs": [
    {
     "name": "stdout",
     "output_type": "stream",
     "text": [
      "Please enter the your BMI:40\n",
      "You are Obese class III\n"
     ]
    }
   ],
   "source": [
    "# #Body Mass Index\n",
    "BMI_Range=float(input(\"Please enter the your BMI:\"))\n",
    "if BMI_Range<18.5:\n",
    "    print('you are Underweight')\n",
    "elif BMI_Range>=18.5 and BMI_Range<=24.9:\n",
    "    print(\"You are Normal weight\")\n",
    "elif BMI_Range>=25.0 and BMI_Range<=29.9:\n",
    "    print(\"You are overweight\")\n",
    "elif BMI_Range>=30.0 and BMI_Range<=34.9:\n",
    "    print(\"You are Obese class I\")\n",
    "elif BMI_Range>=35.0 and BMI_Range<=39.9:\n",
    "    print(\"You are Obese class II\")\n",
    "else:\n",
    "    print(\"You are Obese class III\")"
   ]
  },
  {
   "cell_type": "code",
   "execution_count": null,
   "id": "ae48dc6d",
   "metadata": {},
   "outputs": [],
   "source": []
  },
  {
   "cell_type": "code",
   "execution_count": 16,
   "id": "9e584bca",
   "metadata": {},
   "outputs": [
    {
     "name": "stdout",
     "output_type": "stream",
     "text": [
      "Hope AI\n"
     ]
    }
   ],
   "source": [
    "# Extra_Assignment_Question_-1\n",
    "print(\"Hope AI\")"
   ]
  },
  {
   "cell_type": "code",
   "execution_count": 1,
   "id": "c16f466c",
   "metadata": {},
   "outputs": [
    {
     "name": "stdout",
     "output_type": "stream",
     "text": [
      "Enter your institute name?:Hope AI\n"
     ]
    }
   ],
   "source": [
    "# Buy Input\n",
    "Course_Name=input(\"Enter your institute name?:\")"
   ]
  },
  {
   "cell_type": "code",
   "execution_count": 2,
   "id": "6ab619d8",
   "metadata": {},
   "outputs": [
    {
     "name": "stdout",
     "output_type": "stream",
     "text": [
      "Enter your  name?: Durai\n",
      "Enter your age?: 24\n",
      "Enter your school name?: Dhivya\n",
      "Enter your degree?: Bsc, computer science\n"
     ]
    }
   ],
   "source": [
    "Name=input(\"Enter your  name?: \")\n",
    "Age=int(input(\"Enter your age?: \"))\n",
    "School_Name=input(\"Enter your school name?: \")\n",
    "Degree=input(\"Enter your degree?: \")"
   ]
  },
  {
   "cell_type": "code",
   "execution_count": 10,
   "id": "75bb4bbf",
   "metadata": {},
   "outputs": [
    {
     "name": "stdout",
     "output_type": "stream",
     "text": [
      "Addtion:  77\n"
     ]
    }
   ],
   "source": [
    "# Addtion \n",
    "a= 43\n",
    "b= 34\n",
    "print(\"Addtion: \",a+b)"
   ]
  },
  {
   "cell_type": "code",
   "execution_count": 9,
   "id": "e69b9075",
   "metadata": {},
   "outputs": [
    {
     "name": "stdout",
     "output_type": "stream",
     "text": [
      "Subtraction:  9\n"
     ]
    }
   ],
   "source": [
    "# subtraction\n",
    "a= 43\n",
    "b= 34\n",
    "print(\"Subtraction: \",a-b)"
   ]
  },
  {
   "cell_type": "code",
   "execution_count": 12,
   "id": "52244bbe",
   "metadata": {},
   "outputs": [
    {
     "name": "stdout",
     "output_type": "stream",
     "text": [
      "Multiplication:  6111\n"
     ]
    }
   ],
   "source": [
    "# Multiplication\n",
    "a= 63\n",
    "b= 97\n",
    "print(\"Multiplication: \",a*b)\n"
   ]
  },
  {
   "cell_type": "code",
   "execution_count": 13,
   "id": "518b9d88",
   "metadata": {},
   "outputs": [
    {
     "name": "stdout",
     "output_type": "stream",
     "text": [
      "Division:  2.4516129032258065\n"
     ]
    }
   ],
   "source": [
    "#Division\n",
    "a= 76\n",
    "b= 31\n",
    "print(\"Division: \",a/b)"
   ]
  },
  {
   "cell_type": "code",
   "execution_count": 16,
   "id": "3bdeda3a",
   "metadata": {},
   "outputs": [
    {
     "name": "stdout",
     "output_type": "stream",
     "text": [
      " Floor Division:  2\n"
     ]
    }
   ],
   "source": [
    "#Floor division\n",
    "a= 76\n",
    "b= 31\n",
    "print(\" Floor Division: \",a//b)"
   ]
  },
  {
   "cell_type": "code",
   "execution_count": 17,
   "id": "1eba1675",
   "metadata": {},
   "outputs": [
    {
     "name": "stdout",
     "output_type": "stream",
     "text": [
      " Floor Division:  14\n"
     ]
    }
   ],
   "source": [
    "#Modulo\n",
    "a= 76\n",
    "b= 31\n",
    "print(\" Floor Division: \",a%b)\n"
   ]
  },
  {
   "cell_type": "code",
   "execution_count": 18,
   "id": "66ec7f5e",
   "metadata": {},
   "outputs": [
    {
     "name": "stdout",
     "output_type": "stream",
     "text": [
      "Power  256\n"
     ]
    }
   ],
   "source": [
    "a= 4\n",
    "b= 4\n",
    "print(\"Power \",a**b)\n"
   ]
  },
  {
   "cell_type": "code",
   "execution_count": 19,
   "id": "52e524d8",
   "metadata": {},
   "outputs": [
    {
     "name": "stdout",
     "output_type": "stream",
     "text": [
      "Please enter the range: 20\n",
      "0\n",
      "1\n",
      "2\n",
      "3\n",
      "4\n",
      "5\n",
      "6\n",
      "7\n",
      "8\n",
      "9\n",
      "10\n",
      "11\n",
      "12\n",
      "13\n",
      "14\n",
      "15\n",
      "16\n",
      "17\n",
      "18\n",
      "19\n"
     ]
    }
   ],
   "source": [
    "# Extra_Assignment_Question-2\n",
    "\n",
    "# print 0 to 20 by using range\n",
    "Numbers=int(input(\"Please enter the range: \"))\n",
    "for num in range(Numbers):\n",
    "    print(num)"
   ]
  },
  {
   "cell_type": "code",
   "execution_count": 20,
   "id": "19c6621e",
   "metadata": {},
   "outputs": [
    {
     "name": "stdout",
     "output_type": "stream",
     "text": [
      "[10, 20, 14, 55, 43, 87, 76]\n"
     ]
    }
   ],
   "source": [
    "# print range 10 to 20\n",
    "Number=[10,20,14,55,43,87,76]\n",
    "print(Number)"
   ]
  },
  {
   "cell_type": "code",
   "execution_count": 23,
   "id": "70610ee9",
   "metadata": {},
   "outputs": [
    {
     "name": "stdout",
     "output_type": "stream",
     "text": [
      "Number of item in the List2: 7\n"
     ]
    }
   ],
   "source": [
    "# Print number of items in the list by using 'len'\n",
    "List=[10, 20, 14, 55, 43, 87, 76]\n",
    "print(\"Number of item in the List2:\",len(List))"
   ]
  },
  {
   "cell_type": "code",
   "execution_count": 24,
   "id": "59b485ab",
   "metadata": {},
   "outputs": [
    {
     "name": "stdout",
     "output_type": "stream",
     "text": [
      "Please enter the text: Hope AI\n",
      "H\n",
      "o\n",
      "p\n",
      "e\n",
      " \n",
      "A\n",
      "I\n"
     ]
    }
   ],
   "source": [
    "Text=(input(\"Please enter the text: \"))\n",
    "for i in Text:\n",
    "    print(i)"
   ]
  },
  {
   "cell_type": "code",
   "execution_count": 25,
   "id": "f74e256f",
   "metadata": {},
   "outputs": [
    {
     "name": "stdout",
     "output_type": "stream",
     "text": [
      "Enter your  name?: Durai\n",
      "Enter your age?: 24\n",
      "Enter your Profession?: Developer\n"
     ]
    }
   ],
   "source": [
    "Name=input(\"Enter your  name?: \")\n",
    "Age=int(input(\"Enter your age?: \"))\n",
    "Profession=input(\"Enter your Profession?: \")"
   ]
  },
  {
   "cell_type": "code",
   "execution_count": 26,
   "id": "4609ae10",
   "metadata": {},
   "outputs": [
    {
     "name": "stdout",
     "output_type": "stream",
     "text": [
      "(1, 'Welcome', 2, 'Hope')\n"
     ]
    }
   ],
   "source": [
    "# Print yhis mixered datatype using Tuples\n",
    "Tuple=(1,'Welcome',2,'Hope')\n",
    "print(Tuple)"
   ]
  },
  {
   "cell_type": "code",
   "execution_count": 29,
   "id": "c7813cd5",
   "metadata": {},
   "outputs": [
    {
     "name": "stdout",
     "output_type": "stream",
     "text": [
      "((0, 1, 2, 3), ('python', 'Hope'))\n"
     ]
    }
   ],
   "source": [
    "Tuple1 = ((0, 1, 2, 3),('python','Hope'))\n",
    "print(Tuple1)\n"
   ]
  },
  {
   "cell_type": "code",
   "execution_count": 41,
   "id": "baad2b45",
   "metadata": {},
   "outputs": [
    {
     "name": "stdout",
     "output_type": "stream",
     "text": [
      "Odd Number: [19, 25, 1]\n"
     ]
    }
   ],
   "source": [
    "# print Odd Numbers in the list\n",
    "Num=[20,10,16,19,25,1,276,188]\n",
    "odd=[i for i in Num if i%2!=0]\n",
    "print(\"Odd Number:\",odd)"
   ]
  },
  {
   "cell_type": "code",
   "execution_count": 46,
   "id": "d3d6788c",
   "metadata": {},
   "outputs": [
    {
     "name": "stdout",
     "output_type": "stream",
     "text": [
      "Odd Number is:  19\n",
      "Odd Number is:  25\n",
      "Odd Number is:  1\n"
     ]
    }
   ],
   "source": [
    "Num=[20,10,16,19,25,1,276,188]\n",
    "for i in Num:\n",
    "    if i%2!=0:\n",
    "        print(\"Odd Number is: \",i)"
   ]
  },
  {
   "cell_type": "code",
   "execution_count": null,
   "id": "0f6433f0",
   "metadata": {},
   "outputs": [],
   "source": [
    "# Extra_Assignment_Question\n",
    "Value=int(input(\"Enter the Number:\"))\n",
    "if Value==10:\n",
    "    print(\"correct\")\n",
    "else:\n",
    "    print(\"This is not correct\")\n"
   ]
  },
  {
   "cell_type": "code",
   "execution_count": 49,
   "id": "d085c791",
   "metadata": {},
   "outputs": [
    {
     "name": "stdout",
     "output_type": "stream",
     "text": [
      "Enter the password: HOPE@123\n",
      "Your password is correct\n"
     ]
    }
   ],
   "source": [
    "# Check the password, using if and else\n",
    "Password=input('Enter the password: ')\n",
    "if Password=='HOPE@123':\n",
    "    print(\"Your password is correct\")\n",
    "else:\n",
    "    print(\"your password is not correct please check\")"
   ]
  },
  {
   "cell_type": "code",
   "execution_count": 56,
   "id": "6fe81ac6",
   "metadata": {},
   "outputs": [
    {
     "name": "stdout",
     "output_type": "stream",
     "text": [
      "Enter the Age: 51\n",
      "Senior Citizen\n"
     ]
    }
   ],
   "source": [
    "# Catagory the people by their age like children, adult, citizen, senior citizen...\n",
    "Age=int(input(\"Enter the Age: \"))\n",
    "if Age<18:\n",
    "    print(\"children\")\n",
    "elif Age>=18 and Age<=30:\n",
    "    print(\"Adult\")\n",
    "elif Age>30 and Age<=50:\n",
    "    print(\"Citizen\")\n",
    "else:\n",
    "    print(\"Senior Citizen\")\n"
   ]
  },
  {
   "cell_type": "code",
   "execution_count": 60,
   "id": "15285160",
   "metadata": {},
   "outputs": [
    {
     "name": "stdout",
     "output_type": "stream",
     "text": [
      "Please enter the Number: -1\n",
      "This is negative\n"
     ]
    }
   ],
   "source": [
    "# Find whether given number is positive or negative\n",
    "Number=int(input(\"Please enter the Number: \"))\n",
    "if Number>0:\n",
    "    print(\"This number is pasitive\")\n",
    "else:\n",
    "    print(\"This is negative\")"
   ]
  },
  {
   "cell_type": "code",
   "execution_count": 66,
   "id": "847cac9e",
   "metadata": {},
   "outputs": [
    {
     "name": "stdout",
     "output_type": "stream",
     "text": [
      "Enter the number: 6\n",
      "6  is not divisible by 5\n"
     ]
    }
   ],
   "source": [
    "# Check whether the given number is divisible by 5\n",
    "Number=int(input(\"Enter the number: \"))\n",
    "if Number%5==0:\n",
    "    print(Number,\" is divisible by 5\")\n",
    "else:\n",
    "    print(Number, ' is not divisible by 5')"
   ]
  },
  {
   "cell_type": "code",
   "execution_count": null,
   "id": "b94c4d41",
   "metadata": {},
   "outputs": [],
   "source": []
  }
 ],
 "metadata": {
  "kernelspec": {
   "display_name": "Python 3 (ipykernel)",
   "language": "python",
   "name": "python3"
  },
  "language_info": {
   "codemirror_mode": {
    "name": "ipython",
    "version": 3
   },
   "file_extension": ".py",
   "mimetype": "text/x-python",
   "name": "python",
   "nbconvert_exporter": "python",
   "pygments_lexer": "ipython3",
   "version": "3.9.12"
  }
 },
 "nbformat": 4,
 "nbformat_minor": 5
}
