{
 "cells": [
  {
   "cell_type": "code",
   "execution_count": 3,
   "id": "78847553",
   "metadata": {},
   "outputs": [
    {
     "name": "stdout",
     "output_type": "stream",
     "text": [
      "0\n",
      "1\n",
      "2\n",
      "3\n",
      "4\n"
     ]
    }
   ],
   "source": [
    "#1.What is wrong with the following code?\n",
    "\n",
    "# for i in range(5):\n",
    "# print(i)\n",
    "\n",
    "for i in range(5):\n",
    "    print(i)\n",
    "# IndentationError: expected an indented block\n"
   ]
  },
  {
   "cell_type": "code",
   "execution_count": 6,
   "id": "a65c73a9",
   "metadata": {},
   "outputs": [
    {
     "data": {
      "text/plain": [
       "[1, 2, 3, 4, 5]"
      ]
     },
     "execution_count": 6,
     "metadata": {},
     "output_type": "execute_result"
    }
   ],
   "source": [
    "#2.Question:\n",
    "# Identify and fix the syntax error in this code:\n",
    "\n",
    "# numbers = [1, 2, 3, 4, 5,) it shoud be ]\n",
    "           \n",
    "numbers = [1, 2, 3, 4, 5]\n",
    "numbers"
   ]
  },
  {
   "cell_type": "code",
   "execution_count": 5,
   "id": "69778592",
   "metadata": {},
   "outputs": [
    {
     "ename": "FileNotFoundError",
     "evalue": "[Errno 2] No such file or directory: 'data.txt'",
     "output_type": "error",
     "traceback": [
      "\u001b[1;31m---------------------------------------------------------------------------\u001b[0m",
      "\u001b[1;31mFileNotFoundError\u001b[0m                         Traceback (most recent call last)",
      "Input \u001b[1;32mIn [5]\u001b[0m, in \u001b[0;36m<cell line: 3>\u001b[1;34m()\u001b[0m\n\u001b[0;32m      1\u001b[0m \u001b[38;5;66;03m#3.What error will occur in this code if the file does not exist?\u001b[39;00m\n\u001b[1;32m----> 3\u001b[0m file \u001b[38;5;241m=\u001b[39m \u001b[38;5;28;43mopen\u001b[39;49m\u001b[43m(\u001b[49m\u001b[38;5;124;43m\"\u001b[39;49m\u001b[38;5;124;43mdata.txt\u001b[39;49m\u001b[38;5;124;43m\"\u001b[39;49m\u001b[43m,\u001b[49m\u001b[43m \u001b[49m\u001b[38;5;124;43m\"\u001b[39;49m\u001b[38;5;124;43mr\u001b[39;49m\u001b[38;5;124;43m\"\u001b[39;49m\u001b[43m)\u001b[49m\n\u001b[0;32m      4\u001b[0m \u001b[38;5;28mprint\u001b[39m(file\u001b[38;5;241m.\u001b[39mread())\n\u001b[0;32m      5\u001b[0m file\u001b[38;5;241m.\u001b[39mclose()\n",
      "\u001b[1;31mFileNotFoundError\u001b[0m: [Errno 2] No such file or directory: 'data.txt'"
     ]
    }
   ],
   "source": [
    "#3.What error will occur in this code if the file does not exist?\n",
    "\n",
    "# file = open(\"data.txt\", \"r\")\n",
    "# print(file.read())\n",
    "# file.close()\n",
    "\n",
    "# FileNotFoundError: [Errno 2] No such file or directory: 'data.txt'\n",
    "# if there is no file in the location it through an error\n"
   ]
  },
  {
   "cell_type": "code",
   "execution_count": 7,
   "id": "e274aaba",
   "metadata": {},
   "outputs": [
    {
     "name": "stdout",
     "output_type": "stream",
     "text": [
      "30\n"
     ]
    }
   ],
   "source": [
    "#4.What is wrong with this code?\n",
    "\n",
    "# numbers = [10, 20, 30, 40]\n",
    "# index = \"2\"             it should be number not string\n",
    "# print(numbers[index])\n",
    "\n",
    "\n",
    "numbers = [10, 20, 30, 40]\n",
    "index = 2             \n",
    "print(numbers[index])"
   ]
  },
  {
   "cell_type": "code",
   "execution_count": 9,
   "id": "f2c69863",
   "metadata": {},
   "outputs": [
    {
     "data": {
      "text/plain": [
       "True"
      ]
     },
     "execution_count": 9,
     "metadata": {},
     "output_type": "execute_result"
    }
   ],
   "source": [
    "#5.What is the issue with this function?\n",
    "\n",
    "# def is_prime(n):\n",
    "#     for i in range(2, n):\n",
    "#         if n % i == 0:\n",
    "#             return True\n",
    "#     return False\n",
    "\n",
    "# 1. funcation has not been called\n",
    "\n",
    "\n",
    "def is_prime(n):\n",
    "    for i in range(2, n):\n",
    "        if n % i == 0:\n",
    "            return True\n",
    "    return False\n",
    "is_prime(4)"
   ]
  },
  {
   "cell_type": "code",
   "execution_count": 10,
   "id": "53977489",
   "metadata": {},
   "outputs": [
    {
     "data": {
      "text/plain": [
       "[3, 5]"
      ]
     },
     "execution_count": 10,
     "metadata": {},
     "output_type": "execute_result"
    }
   ],
   "source": [
    "#6.What is the issue with this function?\n",
    "\n",
    "# def filter_even(numbers):\n",
    "#     return [num for num in numbers if num % 2 == 1]\n",
    "\n",
    "# 1. function need to call and argument need to pass\n",
    "\n",
    "def filter_even(numbers):\n",
    "    return [num for num in numbers if num % 2 == 1]\n",
    "filter_even([2,3,4,5,6])"
   ]
  },
  {
   "cell_type": "code",
   "execution_count": 14,
   "id": "65c60a3f",
   "metadata": {},
   "outputs": [
    {
     "name": "stdout",
     "output_type": "stream",
     "text": [
      "[1, 1, 3, 4, 5, 9]\n"
     ]
    }
   ],
   "source": [
    "#7.Question:\n",
    "# What will happen when you run this code?\n",
    "\n",
    "# numbers = [3, 1, 4, 1, 5, 9]\n",
    "# sorted_numbers = numbers.sort()\n",
    "# print(sorted_numbers)\n",
    "\n",
    "# 1. when we print the sort variable or try to print directly it will return None\n",
    "\n",
    "numbers = [3, 1, 4, 1, 5, 9]\n",
    "sorted_numbers = numbers.sort()\n",
    "print(numbers) \n"
   ]
  },
  {
   "cell_type": "code",
   "execution_count": 17,
   "id": "e482acf2",
   "metadata": {},
   "outputs": [
    {
     "data": {
      "text/plain": [
       "46"
      ]
     },
     "execution_count": 17,
     "metadata": {},
     "output_type": "execute_result"
    }
   ],
   "source": [
    "#8.What is the issue with this function?\n",
    "\n",
    "# def sum_numbers(numbers):\n",
    "#     total = 1\n",
    "#     for num in numbers:\n",
    "#         total += num\n",
    "#     return total\n",
    "\n",
    "# 1. we can't itrate Numbers \n",
    "# 2. function need to call\n",
    "\n",
    "def sum_numbers(numbers):\n",
    "    total = 1\n",
    "    for num in range(numbers):\n",
    "        total += num\n",
    "    return total\n",
    "sum_numbers(10)"
   ]
  },
  {
   "cell_type": "code",
   "execution_count": 21,
   "id": "71f4f151",
   "metadata": {},
   "outputs": [
    {
     "data": {
      "text/plain": [
       "120"
      ]
     },
     "execution_count": 21,
     "metadata": {},
     "output_type": "execute_result"
    }
   ],
   "source": [
    "#9.What is the issue with this recursive function?\n",
    "\n",
    "# def factorial(n):\n",
    "#     return n * factorial(n-1)\n",
    "\n",
    "# 1. recursive function need base class to stop the function and recursive class call itsel\n",
    "# we need to call the fucntion \n",
    "\n",
    "def factorial(n):\n",
    "    if n==1:\n",
    "        return 1\n",
    "    else:\n",
    "        return n * factorial(n-1)\n",
    "factorial(5)    "
   ]
  },
  {
   "cell_type": "code",
   "execution_count": 24,
   "id": "88ff0837",
   "metadata": {},
   "outputs": [
    {
     "data": {
      "text/plain": [
       "{'name': 'Alice', 'age': 25, 'city': 'New York'}"
      ]
     },
     "execution_count": 24,
     "metadata": {},
     "output_type": "execute_result"
    }
   ],
   "source": [
    "#10.What will happen when you run this code?\n",
    "\n",
    "# data = {\"name\": \"Alice\", \"age\": 25}\n",
    "# data[\"city\"] += \"New York\"\n",
    "\n",
    "# KeyError: 'city'  --> there is no key city to asign New York\n",
    "\n",
    "data = {\"name\": \"Alice\", \"age\": 25,\"city\":''}\n",
    "data[\"city\"] += \"New York\"\n",
    "data"
   ]
  },
  {
   "cell_type": "code",
   "execution_count": null,
   "id": "cc73c0f3",
   "metadata": {},
   "outputs": [],
   "source": []
  },
  {
   "cell_type": "code",
   "execution_count": null,
   "id": "5d95b45a",
   "metadata": {},
   "outputs": [],
   "source": []
  },
  {
   "cell_type": "code",
   "execution_count": null,
   "id": "8feaf3b2",
   "metadata": {},
   "outputs": [],
   "source": []
  },
  {
   "cell_type": "code",
   "execution_count": null,
   "id": "9691e31a",
   "metadata": {},
   "outputs": [],
   "source": []
  },
  {
   "cell_type": "code",
   "execution_count": null,
   "id": "7ed85400",
   "metadata": {},
   "outputs": [],
   "source": []
  },
  {
   "cell_type": "code",
   "execution_count": null,
   "id": "7a1883fe",
   "metadata": {},
   "outputs": [],
   "source": []
  },
  {
   "cell_type": "code",
   "execution_count": null,
   "id": "67489370",
   "metadata": {},
   "outputs": [],
   "source": []
  },
  {
   "cell_type": "code",
   "execution_count": null,
   "id": "35e487ac",
   "metadata": {},
   "outputs": [],
   "source": []
  },
  {
   "cell_type": "code",
   "execution_count": null,
   "id": "05af998c",
   "metadata": {},
   "outputs": [],
   "source": []
  },
  {
   "cell_type": "code",
   "execution_count": null,
   "id": "eef23ed6",
   "metadata": {},
   "outputs": [],
   "source": []
  },
  {
   "cell_type": "code",
   "execution_count": null,
   "id": "772e63f3",
   "metadata": {},
   "outputs": [],
   "source": []
  },
  {
   "cell_type": "code",
   "execution_count": null,
   "id": "06d85cf3",
   "metadata": {},
   "outputs": [],
   "source": []
  },
  {
   "cell_type": "code",
   "execution_count": null,
   "id": "141e6eb0",
   "metadata": {},
   "outputs": [],
   "source": []
  },
  {
   "cell_type": "code",
   "execution_count": null,
   "id": "556c2305",
   "metadata": {},
   "outputs": [],
   "source": []
  },
  {
   "cell_type": "code",
   "execution_count": null,
   "id": "b8afa16d",
   "metadata": {},
   "outputs": [],
   "source": []
  },
  {
   "cell_type": "code",
   "execution_count": null,
   "id": "154df417",
   "metadata": {},
   "outputs": [],
   "source": []
  },
  {
   "cell_type": "code",
   "execution_count": null,
   "id": "b99daf88",
   "metadata": {},
   "outputs": [],
   "source": []
  },
  {
   "cell_type": "code",
   "execution_count": null,
   "id": "f03248c7",
   "metadata": {},
   "outputs": [],
   "source": []
  },
  {
   "cell_type": "code",
   "execution_count": null,
   "id": "d095cc97",
   "metadata": {},
   "outputs": [],
   "source": []
  },
  {
   "cell_type": "code",
   "execution_count": null,
   "id": "0500daab",
   "metadata": {},
   "outputs": [],
   "source": []
  },
  {
   "cell_type": "code",
   "execution_count": null,
   "id": "07ac98be",
   "metadata": {},
   "outputs": [],
   "source": []
  },
  {
   "cell_type": "code",
   "execution_count": null,
   "id": "f0a10b4a",
   "metadata": {},
   "outputs": [],
   "source": []
  },
  {
   "cell_type": "code",
   "execution_count": null,
   "id": "38b2cc91",
   "metadata": {},
   "outputs": [],
   "source": []
  },
  {
   "cell_type": "code",
   "execution_count": null,
   "id": "0763400e",
   "metadata": {},
   "outputs": [],
   "source": []
  },
  {
   "cell_type": "code",
   "execution_count": null,
   "id": "bbea63a2",
   "metadata": {},
   "outputs": [],
   "source": []
  }
 ],
 "metadata": {
  "kernelspec": {
   "display_name": "Python 3 (ipykernel)",
   "language": "python",
   "name": "python3"
  },
  "language_info": {
   "codemirror_mode": {
    "name": "ipython",
    "version": 3
   },
   "file_extension": ".py",
   "mimetype": "text/x-python",
   "name": "python",
   "nbconvert_exporter": "python",
   "pygments_lexer": "ipython3",
   "version": "3.9.12"
  }
 },
 "nbformat": 4,
 "nbformat_minor": 5
}
