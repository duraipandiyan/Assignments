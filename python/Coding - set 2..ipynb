{
 "cells": [
  {
   "cell_type": "code",
   "execution_count": 3,
   "id": "aba1475d",
   "metadata": {},
   "outputs": [
    {
     "data": {
      "text/plain": [
       "'nohtyP'"
      ]
     },
     "execution_count": 3,
     "metadata": {},
     "output_type": "execute_result"
    }
   ],
   "source": [
    "# 1.Write a Python program to find the reverse of a string. Expected Output (for input \"hello\"):\n",
    "# olleh\n",
    "\n",
    "\n",
    "def reverse_string(Word):\n",
    "    return Word[::-1]\n",
    "    \n",
    "reverse_string('Python')    "
   ]
  },
  {
   "cell_type": "code",
   "execution_count": 36,
   "id": "5b1ec143",
   "metadata": {},
   "outputs": [
    {
     "name": "stdout",
     "output_type": "stream",
     "text": [
      "1 2 3 5 8 13 21 34 "
     ]
    }
   ],
   "source": [
    "# 2.Write a Python program to generate the Fibonacci sequence up to 10 terms.\n",
    "# Expected Output:\n",
    "# 0 1 1 2 3 5 8 13 21 34\n",
    "  \n",
    "def Fibonacci(Number):\n",
    "    a=0\n",
    "    b=1\n",
    "    for num in range(Number+1):\n",
    "        c=a+b\n",
    "        a=b\n",
    "        b=c\n",
    "        print(c,end=' ')\n",
    "\n",
    "        \n",
    "Fibonacci(7)\n",
    "  "
   ]
  },
  {
   "cell_type": "code",
   "execution_count": 39,
   "id": "c656f04a",
   "metadata": {},
   "outputs": [
    {
     "data": {
      "text/plain": [
       "('madam', 'is palindrome')"
      ]
     },
     "execution_count": 39,
     "metadata": {},
     "output_type": "execute_result"
    }
   ],
   "source": [
    "# 3.Write a Python function to check if a given string is a palindrome.\n",
    "# Expected Output (for input \"madam\"):\n",
    "# madam is a palindrome\n",
    "\n",
    "def palindrome(Sentence):\n",
    "    if Sentence[::-1]==Sentence:\n",
    "        return Sentence,'is palindrome'\n",
    "    else:\n",
    "        return Sentence,'is not palindrome'\n",
    "    \n",
    "    \n",
    "palindrome('madam')    \n"
   ]
  },
  {
   "cell_type": "code",
   "execution_count": 52,
   "id": "cd7b0a78",
   "metadata": {},
   "outputs": [
    {
     "data": {
      "text/plain": [
       "('The Vowel count is', 4)"
      ]
     },
     "execution_count": 52,
     "metadata": {},
     "output_type": "execute_result"
    }
   ],
   "source": [
    "# 4.Write a Python program to count the number of vowels in a given string. \n",
    "# Expected Output (for input \"education\"):\n",
    "\n",
    "# Number of vowels: 5\n",
    "    \n",
    "\n",
    "def Vowels(sentence):\n",
    "    Vowels=['a','e','i','o','u']\n",
    "    dic={}\n",
    "    count=0\n",
    "    for i in sentence:\n",
    "        if i in dic:\n",
    "            dic[i]=0\n",
    "        else:\n",
    "            dic[i]=0\n",
    "    for j in Vowels:\n",
    "        if j in dic:\n",
    "            dic[j]+=1\n",
    "            count+=1\n",
    "        else:\n",
    "            dic[j]=0\n",
    "\n",
    "    return \"The Vowel count is\",count\n",
    "            \n",
    "    \n",
    "\n",
    "Vowels('eduction')\n"
   ]
  },
  {
   "cell_type": "code",
   "execution_count": 57,
   "id": "bdbb9b19",
   "metadata": {},
   "outputs": [
    {
     "data": {
      "text/plain": [
       "[1, 2, 3, 4, 5]"
      ]
     },
     "execution_count": 57,
     "metadata": {},
     "output_type": "execute_result"
    }
   ],
   "source": [
    "# 5.Write a Python program to remove duplicates from a list.\n",
    "# Expected Output (for input [1, 2, 2, 3, 4, 4, 5]):\n",
    "\n",
    "#  [1, 2, 3, 4, 5]\n",
    "\n",
    "def remove_duplicate(List):\n",
    "    return list(set(List))\n",
    "    \n",
    "remove_duplicate([1, 2, 2, 3, 4, 4, 5])    \n",
    "\n",
    "\n"
   ]
  },
  {
   "cell_type": "code",
   "execution_count": null,
   "id": "1dc6ceef",
   "metadata": {},
   "outputs": [],
   "source": []
  }
 ],
 "metadata": {
  "kernelspec": {
   "display_name": "Python 3 (ipykernel)",
   "language": "python",
   "name": "python3"
  },
  "language_info": {
   "codemirror_mode": {
    "name": "ipython",
    "version": 3
   },
   "file_extension": ".py",
   "mimetype": "text/x-python",
   "name": "python",
   "nbconvert_exporter": "python",
   "pygments_lexer": "ipython3",
   "version": "3.9.12"
  }
 },
 "nbformat": 4,
 "nbformat_minor": 5
}
