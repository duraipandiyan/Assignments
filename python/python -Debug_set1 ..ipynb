{
 "cells": [
  {
   "cell_type": "code",
   "execution_count": 5,
   "id": "8e02775a",
   "metadata": {},
   "outputs": [
    {
     "name": "stdout",
     "output_type": "stream",
     "text": [
      "0\n",
      "1\n",
      "2\n",
      "3\n",
      "4\n"
     ]
    }
   ],
   "source": [
    "#1.Find the error in the following Python code:\n",
    "\n",
    "#  for i in range(5)\n",
    "#     print(i)\n",
    "    \n",
    "# IndentationError: unexpected indent which means we should not leave space when we start the function - Space error  \n",
    "# : colon is missing \n",
    "\n",
    "for i in range(5):\n",
    "    print(i)"
   ]
  },
  {
   "cell_type": "code",
   "execution_count": 8,
   "id": "df3cee51",
   "metadata": {},
   "outputs": [
    {
     "name": "stdout",
     "output_type": "stream",
     "text": [
      "15\n"
     ]
    }
   ],
   "source": [
    "#2.What will be the output of this code?\n",
    "\n",
    "# a = 10\n",
    "# b = \"5\"\n",
    "# print(a + b)\n",
    " \n",
    "#     TypeError: unsupported operand type(s) for +: 'int' and 'str'\n",
    "# We can't add or concate string and intiger\n",
    "\n",
    "a = 10\n",
    "b = 5\n",
    "print(a + b)"
   ]
  },
  {
   "cell_type": "code",
   "execution_count": 12,
   "id": "15c2e7b2",
   "metadata": {},
   "outputs": [
    {
     "data": {
      "text/plain": [
       "15"
      ]
     },
     "execution_count": 12,
     "metadata": {},
     "output_type": "execute_result"
    }
   ],
   "source": [
    "#3.What is the issue in this Python snippet?\n",
    "\n",
    "#  def add_numbers(a, b)\n",
    "#     return a + b\n",
    "\n",
    "# IndentationError: unexpected indent\n",
    "# : colon is missing \n",
    "# We should call the function\n",
    "\n",
    "def add_numbers(a, b):\n",
    "    return a + b\n",
    "add_numbers(a,b)"
   ]
  },
  {
   "cell_type": "code",
   "execution_count": 16,
   "id": "2f8e5efd",
   "metadata": {},
   "outputs": [
    {
     "name": "stdout",
     "output_type": "stream",
     "text": [
      "4\n"
     ]
    }
   ],
   "source": [
    "\n",
    "#4.Identify the bug in the following Python code:\n",
    "\n",
    "#  numbers = [1, 2, 3, 4]\n",
    "# print(numbers[4])\n",
    "\n",
    "# IndentationError: unexpected indent\n",
    "# Index error - always index will start 0 .\n",
    "\n",
    "numbers = [1, 2, 3, 4]\n",
    "print(numbers[3]) "
   ]
  },
  {
   "cell_type": "code",
   "execution_count": 19,
   "id": "bc0080c1",
   "metadata": {},
   "outputs": [
    {
     "name": "stdout",
     "output_type": "stream",
     "text": [
      "Hello, World!\n"
     ]
    }
   ],
   "source": [
    "#5.Find the error in the following Python code:\n",
    "\n",
    "# print \"Hello, World!\"\n",
    "\n",
    "# SyntaxError: Missing parentheses \n",
    "print(\"Hello, World!\")\n",
    "\n"
   ]
  },
  {
   "cell_type": "code",
   "execution_count": 20,
   "id": "5b449ecb",
   "metadata": {},
   "outputs": [
    {
     "ename": "ZeroDivisionError",
     "evalue": "division by zero",
     "output_type": "error",
     "traceback": [
      "\u001b[1;31m---------------------------------------------------------------------------\u001b[0m",
      "\u001b[1;31mZeroDivisionError\u001b[0m                         Traceback (most recent call last)",
      "Input \u001b[1;32mIn [20]\u001b[0m, in \u001b[0;36m<cell line: 2>\u001b[1;34m()\u001b[0m\n\u001b[0;32m      1\u001b[0m \u001b[38;5;66;03m#6.Find the error in the following Python code:\u001b[39;00m\n\u001b[1;32m----> 2\u001b[0m x \u001b[38;5;241m=\u001b[39m \u001b[38;5;241;43m5\u001b[39;49m\u001b[43m \u001b[49m\u001b[38;5;241;43m/\u001b[39;49m\u001b[43m \u001b[49m\u001b[38;5;241;43m0\u001b[39;49m\n",
      "\u001b[1;31mZeroDivisionError\u001b[0m: division by zero"
     ]
    }
   ],
   "source": [
    "#6.Find the error in the following Python code:\n",
    "\n",
    "x = 5 / 0\n",
    "\n",
    "\n",
    "# ZeroDivisionError: division by zero\n",
    "# We could not divide by zero with any number"
   ]
  },
  {
   "cell_type": "code",
   "execution_count": 27,
   "id": "79260565",
   "metadata": {},
   "outputs": [
    {
     "name": "stdout",
     "output_type": "stream",
     "text": [
      "Name: Alice, Age: 25\n"
     ]
    }
   ],
   "source": [
    "#7.Find the error in the following Python code:name = \"Alice\"\n",
    "# age = 25\n",
    "# print(\"Name: \" + name + \", Age: \" + age)\n",
    "\n",
    "# Name has not been defind \n",
    "# And we can not concate string and intiger\n",
    "\n",
    "name='Alice'\n",
    "age = 25\n",
    "print(\"Name: \" + name + \", Age:\" ,age)"
   ]
  },
  {
   "cell_type": "code",
   "execution_count": 46,
   "id": "3e4b6f3b",
   "metadata": {},
   "outputs": [
    {
     "name": "stdout",
     "output_type": "stream",
     "text": [
      "1\n",
      "3\n",
      "5\n",
      "7\n",
      "9\n"
     ]
    }
   ],
   "source": [
    "#8.Find the error\n",
    "\n",
    "# for i in range(1, 10, -1):\n",
    "#     print(i)\n",
    "\n",
    "#range always start (strat_value,end_value,step_value)\n",
    "# Error-> if we want to print reverse we should give (10,0,-1) it will print,10 10-1,9-1,...\n",
    "# And if we want to print 1,3,5... then (1,10,2)\n",
    "\n",
    "for i in range(1, 10, 2):\n",
    "     print(i)"
   ]
  },
  {
   "cell_type": "code",
   "execution_count": 63,
   "id": "95976c4d",
   "metadata": {},
   "outputs": [
    {
     "name": "stdout",
     "output_type": "stream",
     "text": [
      "x is 5\n"
     ]
    }
   ],
   "source": [
    "#9. Find the error in the following Python code:\n",
    "# x = 10\n",
    "# if x = 5:\n",
    "#     print(\"x is 5\")\n",
    "\n",
    "# x = 10\n",
    "# if x = 5:\n",
    "#     print(\"x is 5\")\n",
    "    \n",
    "# We can not assign the value in if condition\n",
    "# Because if basically check the condition like True or False.\n",
    "\n",
    "# like this we check the condition like True or False.\n",
    "x = 10\n",
    "if x > 5: \n",
    "    print(\"x is 5\")"
   ]
  },
  {
   "cell_type": "code",
   "execution_count": 64,
   "id": "317eca50",
   "metadata": {},
   "outputs": [
    {
     "name": "stdout",
     "output_type": "stream",
     "text": [
      "Hello, durai\n"
     ]
    }
   ],
   "source": [
    "#10. Identify the error in the following function definition:\n",
    "\n",
    "# def greet(name)\n",
    "#     print(\"Hello, \" + name)\n",
    "\n",
    "# Need to call the function \n",
    "# : Colon is missing \n",
    "\n",
    "def greet(name):\n",
    "    print(\"Hello, \" + name)\n",
    "greet('durai')    "
   ]
  },
  {
   "cell_type": "code",
   "execution_count": null,
   "id": "2dc05380",
   "metadata": {},
   "outputs": [],
   "source": []
  }
 ],
 "metadata": {
  "kernelspec": {
   "display_name": "Python 3 (ipykernel)",
   "language": "python",
   "name": "python3"
  },
  "language_info": {
   "codemirror_mode": {
    "name": "ipython",
    "version": 3
   },
   "file_extension": ".py",
   "mimetype": "text/x-python",
   "name": "python",
   "nbconvert_exporter": "python",
   "pygments_lexer": "ipython3",
   "version": "3.9.12"
  }
 },
 "nbformat": 4,
 "nbformat_minor": 5
}
